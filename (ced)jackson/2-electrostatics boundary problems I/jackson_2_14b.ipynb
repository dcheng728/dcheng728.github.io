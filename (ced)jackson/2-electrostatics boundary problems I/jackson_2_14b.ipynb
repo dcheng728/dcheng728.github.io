{
 "cells": [
  {
   "cell_type": "markdown",
   "metadata": {},
   "source": [
    "$$\\Phi = \\frac{4V}{\\pi} \\sum_{n = 0}^\\infty \\left(\\frac{\\rho}{b} \\right)^{4n+2} \\frac{ \\sin [(4n+2)\\phi]}{2n+1}$$"
   ]
  },
  {
   "cell_type": "markdown",
   "metadata": {},
   "source": [
    "Writing it in complex form:\n",
    "\n",
    "$$\\Phi = \\frac{4V}{\\pi} \\textbf{Im} \\sum_{n = 0}^\\infty \\left(\\frac{\\rho}{b} \\right)^{4n+2} \\frac{e^{i(4n+2)\\phi}}{2n+1}$$"
   ]
  },
  {
   "cell_type": "markdown",
   "metadata": {},
   "source": [
    "or in simpler form with definition $x \\equiv \\left(\\frac{\\rho}{b} \\right)^{2} e^{i 2 \\phi}$\n",
    "\n",
    "$$\\Phi = \\frac{4V}{\\pi} \\textbf{Im} \\sum_{n = 0}^\\infty \\frac{x^{2n+1}}{2n+1}$$"
   ]
  },
  {
   "cell_type": "markdown",
   "metadata": {},
   "source": [
    "Recall the expansion for $\\ln(1+x)$ and $\\ln(\\frac{1}{1-x})$:\n",
    "\n",
    "$$\\ln ( 1+x) = \\sum_{n=1}^\\infty (-1)^{i+1}\\frac{x^i}{i} = x - \\frac{1}{2}x^2 + \\frac{1}{3} x^3 - \\frac{1}{4}x^4 + ...$$\n",
    "\n",
    "$$\\ln ( \\frac{1}{1-x}) = \\sum_{n=1}^\\infty \\frac{x^i}{i} = x + \\frac{1}{2}x^2 + \\frac{1}{3} x^3 + \\frac{1}{4}x^4 + ...$$"
   ]
  },
  {
   "cell_type": "markdown",
   "metadata": {},
   "source": [
    "Recognize\n",
    "\n",
    "$$\\frac{1}{2}\\left[ \\ln(1+x) + \\ln(\\frac{1}{1-x})\\right] = x + \\frac{1}{3}x^3 + \\frac{1}{5}x^5 + ... = \\sum_{n = 0}^\\infty \\frac{x^{2n+1}}{2n+1}$$"
   ]
  },
  {
   "cell_type": "markdown",
   "metadata": {},
   "source": [
    "Plugging this into our expansion for $\\Phi$ gives\n",
    "\n",
    "$$\\Phi = \\frac{2V}{\\pi} \\textbf{Im} \\left [\\ln(\\frac{1+x}{1-x}) \\right]$$"
   ]
  },
  {
   "cell_type": "markdown",
   "metadata": {},
   "source": [
    "We wish to evaluate the ln term, we need to write $\\frac{1+x}{1-x}$ in the form of $a+bi$, then use the complex form of ln:\n",
    "\n",
    "$$\\ln(a+bi) = \\frac{1}{2}\\ln(a^2 + b^2) + i \\tan^{-1}(b/a)$$\n",
    "\n",
    "This formula is simple to prove via euler's identity."
   ]
  },
  {
   "cell_type": "markdown",
   "metadata": {},
   "source": [
    "I hand computed $\\frac{1+x}{1-x}$ and found\n",
    "\n",
    "$$\\frac{1+x}{1-x} = \\frac{1-\\left( \\frac{\\rho}{b} \\right)^4 }{r} + \\frac{ 2 \\left( \\frac{\\rho}{b} \\right)^2 \\sin (2\\phi) }{r} i $$"
   ]
  },
  {
   "cell_type": "markdown",
   "metadata": {},
   "source": [
    "Thus\n",
    "\n",
    "$$\\Phi = \\frac{2 V}{\\pi} \\tan^{-1} \\left[ \\frac{2 \\rho^2 b^2 \\sin(2\\phi)}{\\rho^4 - b^4} \\right]$$"
   ]
  },
  {
   "cell_type": "markdown",
   "metadata": {},
   "source": []
  }
 ],
 "metadata": {
  "kernelspec": {
   "display_name": "SageMath 9.7",
   "language": "sage",
   "name": "SageMath-9.7"
  },
  "language_info": {
   "name": "sage"
  }
 },
 "nbformat": 4,
 "nbformat_minor": 2
}
