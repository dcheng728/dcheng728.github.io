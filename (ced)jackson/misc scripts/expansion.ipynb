{
 "cells": [
  {
   "cell_type": "code",
   "execution_count": 10,
   "metadata": {},
   "outputs": [],
   "source": [
    "R, r = var('R,r')"
   ]
  },
  {
   "cell_type": "code",
   "execution_count": 11,
   "metadata": {},
   "outputs": [],
   "source": [
    "sigma = (R^2 - r^2)^(-1/2)"
   ]
  },
  {
   "cell_type": "code",
   "execution_count": 22,
   "metadata": {},
   "outputs": [
    {
     "data": {
      "text/html": [
       "<html>\\(\\displaystyle \\frac{225}{{\\left(R^{2}\\right)}^{\\frac{7}{2}}}\\)</html>"
      ],
      "text/latex": [
       "$\\displaystyle \\frac{225}{{\\left(R^{2}\\right)}^{\\frac{7}{2}}}$"
      ],
      "text/plain": [
       "225/(R^2)^(7/2)"
      ]
     },
     "metadata": {},
     "output_type": "display_data"
    }
   ],
   "source": [
    "show(diff( sigma,r,6)(r = 0))"
   ]
  },
  {
   "cell_type": "code",
   "execution_count": 16,
   "metadata": {},
   "outputs": [
    {
     "data": {
      "text/html": [
       "<html>\\(\\displaystyle \\frac{1}{R} + \\frac{r^{2}}{2 \\, R^{3}} + \\frac{3 \\, r^{4}}{8 \\, R^{5}} + \\frac{5 \\, r^{6}}{16 \\, R^{7}} + \\frac{35 \\, r^{8}}{128 \\, R^{9}} + \\frac{63 \\, r^{10}}{256 \\, R^{11}}\\)</html>"
      ],
      "text/latex": [
       "$\\displaystyle \\frac{1}{R} + \\frac{r^{2}}{2 \\, R^{3}} + \\frac{3 \\, r^{4}}{8 \\, R^{5}} + \\frac{5 \\, r^{6}}{16 \\, R^{7}} + \\frac{35 \\, r^{8}}{128 \\, R^{9}} + \\frac{63 \\, r^{10}}{256 \\, R^{11}}$"
      ],
      "text/plain": [
       "1/R + 1/2*r^2/R^3 + 3/8*r^4/R^5 + 5/16*r^6/R^7 + 35/128*r^8/R^9 + 63/256*r^10/R^11"
      ]
     },
     "metadata": {},
     "output_type": "display_data"
    }
   ],
   "source": [
    "show(sigma.taylor(r,0,10))"
   ]
  },
  {
   "cell_type": "code",
   "execution_count": 29,
   "metadata": {},
   "outputs": [
    {
     "data": {
      "text/plain": [
       "-1/3"
      ]
     },
     "execution_count": 29,
     "metadata": {},
     "output_type": "execute_result"
    }
   ],
   "source": [
    "(-1)^(1) / (2*(1)+1)"
   ]
  },
  {
   "cell_type": "code",
   "execution_count": 30,
   "metadata": {},
   "outputs": [
    {
     "data": {
      "text/plain": [
       "1/5"
      ]
     },
     "execution_count": 30,
     "metadata": {},
     "output_type": "execute_result"
    }
   ],
   "source": [
    "(-1)^(2) / (2*(2)+1)"
   ]
  },
  {
   "cell_type": "code",
   "execution_count": 31,
   "metadata": {},
   "outputs": [
    {
     "data": {
      "text/plain": [
       "-1/7"
      ]
     },
     "execution_count": 31,
     "metadata": {},
     "output_type": "execute_result"
    }
   ],
   "source": [
    "(-1)^(3) / (2*(3)+1)"
   ]
  },
  {
   "cell_type": "code",
   "execution_count": null,
   "metadata": {},
   "outputs": [],
   "source": []
  }
 ],
 "metadata": {
  "kernelspec": {
   "display_name": "SageMath 9.7",
   "language": "sage",
   "name": "SageMath-9.7"
  },
  "language_info": {
   "codemirror_mode": {
    "name": "ipython",
    "version": 3
   },
   "file_extension": ".py",
   "mimetype": "text/x-python",
   "name": "python",
   "nbconvert_exporter": "python",
   "pygments_lexer": "ipython3",
   "version": "3.10.5"
  }
 },
 "nbformat": 4,
 "nbformat_minor": 2
}
