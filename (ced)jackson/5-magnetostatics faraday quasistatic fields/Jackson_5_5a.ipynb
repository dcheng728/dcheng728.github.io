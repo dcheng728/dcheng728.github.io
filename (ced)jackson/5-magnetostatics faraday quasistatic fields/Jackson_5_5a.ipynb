{
 "cells": [
  {
   "cell_type": "code",
   "execution_count": 17,
   "id": "9560908d",
   "metadata": {},
   "outputs": [],
   "source": [
    "theta1,theta2,mu_0,N,I,z, L  = var('theta_1, theta_2, mu_0, N, I, z, L')\n",
    "a = var('a')\n",
    "rho = var('rho')"
   ]
  },
  {
   "cell_type": "markdown",
   "id": "dfd69ca5",
   "metadata": {},
   "source": [
    "Jackson exercise 5.3 gives the following formula for $B_z$"
   ]
  },
  {
   "cell_type": "code",
   "execution_count": 18,
   "id": "5f7843fd",
   "metadata": {},
   "outputs": [
    {
     "data": {
      "text/html": [
       "<html>\\(\\displaystyle \\frac{1}{2} \\, I N \\mu_{0} {\\left(\\cos\\left(\\theta_{1}\\right) + \\cos\\left(\\theta_{2}\\right)\\right)}\\)</html>"
      ],
      "text/latex": [
       "$\\displaystyle \\frac{1}{2} \\, I N \\mu_{0} {\\left(\\cos\\left(\\theta_{1}\\right) + \\cos\\left(\\theta_{2}\\right)\\right)}$"
      ],
      "text/plain": [
       "1/2*I*N*mu_0*(cos(theta_1) + cos(theta_2))"
      ]
     },
     "metadata": {},
     "output_type": "display_data"
    }
   ],
   "source": [
    "B_z = (mu_0 * N * I)/2 * (cos(theta1) + cos(theta2))\n",
    "show(B)"
   ]
  },
  {
   "cell_type": "markdown",
   "id": "2743b1ac",
   "metadata": {},
   "source": [
    "exercise 5.4 allows us to write $\\vec{B}$ in the other directions by derivatives of $B_z$ wrt $z$. We would like a formula for $B_z$ in $z$, which is simple."
   ]
  },
  {
   "cell_type": "code",
   "execution_count": 19,
   "id": "a828faa0",
   "metadata": {},
   "outputs": [
    {
     "data": {
      "text/html": [
       "<html>\\(\\displaystyle \\frac{1}{2} \\, I N \\mu_{0} {\\left(\\frac{L + 2 \\, z}{\\sqrt{{\\left(L + 2 \\, z\\right)}^{2} + 4 \\, a^{2}}} + \\frac{L - 2 \\, z}{\\sqrt{{\\left(L - 2 \\, z\\right)}^{2} + 4 \\, a^{2}}}\\right)}\\)</html>"
      ],
      "text/latex": [
       "$\\displaystyle \\frac{1}{2} \\, I N \\mu_{0} {\\left(\\frac{L + 2 \\, z}{\\sqrt{{\\left(L + 2 \\, z\\right)}^{2} + 4 \\, a^{2}}} + \\frac{L - 2 \\, z}{\\sqrt{{\\left(L - 2 \\, z\\right)}^{2} + 4 \\, a^{2}}}\\right)}$"
      ],
      "text/plain": [
       "1/2*I*N*mu_0*((L + 2*z)/sqrt((L + 2*z)^2 + 4*a^2) + (L - 2*z)/sqrt((L - 2*z)^2 + 4*a^2))"
      ]
     },
     "metadata": {},
     "output_type": "display_data"
    }
   ],
   "source": [
    "B_z = (mu_0 * N * I)/2 * ((L/2 + z) / sqrt((L/2 + z)^2 + a^2) + (L/2 - z) / sqrt((L/2 - z)^2 + a^2))\n",
    "show(B_z)"
   ]
  },
  {
   "cell_type": "code",
   "execution_count": 27,
   "id": "d43c0a0b",
   "metadata": {
    "scrolled": true
   },
   "outputs": [
    {
     "data": {
      "text/html": [
       "<html>\\(\\displaystyle \\frac{I L N \\mu_{0}}{\\sqrt{L^{2} + 4 \\, a^{2}}}\\)</html>"
      ],
      "text/latex": [
       "$\\displaystyle \\frac{I L N \\mu_{0}}{\\sqrt{L^{2} + 4 \\, a^{2}}}$"
      ],
      "text/plain": [
       "I*L*N*mu_0/sqrt(L^2 + 4*a^2)"
      ]
     },
     "metadata": {},
     "output_type": "display_data"
    },
    {
     "data": {
      "text/html": [
       "<html>\\(\\displaystyle 0\\)</html>"
      ],
      "text/latex": [
       "$\\displaystyle 0$"
      ],
      "text/plain": [
       "0"
      ]
     },
     "metadata": {},
     "output_type": "display_data"
    },
    {
     "data": {
      "text/html": [
       "<html>\\(\\displaystyle -\\frac{48 \\, I L N a^{2} \\mu_{0}}{{\\left(L^{2} + 4 \\, a^{2}\\right)}^{\\frac{5}{2}}}\\)</html>"
      ],
      "text/latex": [
       "$\\displaystyle -\\frac{48 \\, I L N a^{2} \\mu_{0}}{{\\left(L^{2} + 4 \\, a^{2}\\right)}^{\\frac{5}{2}}}$"
      ],
      "text/plain": [
       "-48*I*L*N*a^2*mu_0/(L^2 + 4*a^2)^(5/2)"
      ]
     },
     "metadata": {},
     "output_type": "display_data"
    },
    {
     "data": {
      "text/html": [
       "<html>\\(\\displaystyle 0\\)</html>"
      ],
      "text/latex": [
       "$\\displaystyle 0$"
      ],
      "text/plain": [
       "0"
      ]
     },
     "metadata": {},
     "output_type": "display_data"
    }
   ],
   "source": [
    "# evaluate the coefficients of expansion\n",
    "c_0 = diff(B_z,z,0)(z = 0)\n",
    "c_1 = diff(B_z,z,1)(z = 0)\n",
    "c_2 = diff(B_z,z,2)(z = 0)\n",
    "c_3 = diff(B_z,z,3)(z = 0)\n",
    "\n",
    "show(c_0.factor())\n",
    "show(c_1.factor())\n",
    "show(c_2.factor())\n",
    "show(c_3.factor())"
   ]
  },
  {
   "cell_type": "markdown",
   "id": "9dbb23e6",
   "metadata": {},
   "source": [
    "# getting the fields"
   ]
  },
  {
   "cell_type": "markdown",
   "id": "83dbad7c",
   "metadata": {},
   "source": [
    "From exercise 5.4, we have\n",
    "$$B_z(\\rho,z) \\approx B_z(0,z) - (\\frac{\\rho^2}{4}) \\frac{\\partial^2 B_z(0,z)}{\\partial z^2} + ... $$\n",
    "$$B_\\rho(\\rho,z) \\approx - (\\frac{\\rho}{2}) \\frac{\\partial B_z(0,z)}{\\partial z} + \n",
    "(\\frac{\\rho^3}{16}) \\frac{\\partial^3 B_z(0,z)}{\\partial z^3} ... $$\n",
    "\n",
    "Evaluating the coefficients explicitly, we have in the vicinity of the central region of the solenoid:\n",
    "\n",
    "$$B_z(\\rho,z) \\approx \\frac{I L N \\mu_{0}}{\\sqrt{L^{2} + 4 \\, a^{2}}} \n",
    "+ (\\frac{\\rho^2}{4})\\frac{48 \\, I L N a^{2} \\mu_{0}}{{\\left(L^{2} + 4 \\, a^{2}\\right)}^{\\frac{5}{2}}}$$\n",
    "\n",
    "$$B_\\rho \\approx 0$$\n",
    "\n"
   ]
  },
  {
   "cell_type": "code",
   "execution_count": null,
   "id": "a70890a4",
   "metadata": {},
   "outputs": [],
   "source": []
  }
 ],
 "metadata": {
  "kernelspec": {
   "display_name": "SageMath 9.7",
   "language": "sage",
   "name": "sagemath-9.7"
  },
  "language_info": {
   "codemirror_mode": {
    "name": "ipython",
    "version": 3
   },
   "file_extension": ".py",
   "mimetype": "text/x-python",
   "name": "python",
   "nbconvert_exporter": "python",
   "pygments_lexer": "ipython3",
   "version": "3.10.5"
  }
 },
 "nbformat": 4,
 "nbformat_minor": 5
}
