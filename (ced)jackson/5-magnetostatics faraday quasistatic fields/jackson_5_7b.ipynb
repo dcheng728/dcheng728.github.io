{
 "cells": [
  {
   "cell_type": "code",
   "execution_count": 5,
   "id": "a7a9b1c2",
   "metadata": {},
   "outputs": [],
   "source": [
    "mu_0, I, a, b, z = var('mu_0, I, a, b, z')"
   ]
  },
  {
   "cell_type": "code",
   "execution_count": 6,
   "id": "a7c680e2",
   "metadata": {},
   "outputs": [],
   "source": [
    "B = (mu_0 * I * a^2 / 2) * ( (a^2 + (b/2 - z)^2)^(-3/2) + (a^2 + (b/2 + z)^2)^(-3/2)  )"
   ]
  },
  {
   "cell_type": "code",
   "execution_count": 7,
   "id": "7fb70214",
   "metadata": {},
   "outputs": [
    {
     "data": {
      "text/html": [
       "<html>\\(\\displaystyle 4 \\, I a^{2} \\mu_{0} {\\left(\\frac{1}{{\\left(4 \\, a^{2} + {\\left(b + 2 \\, z\\right)}^{2}\\right)}^{\\frac{3}{2}}} + \\frac{1}{{\\left(4 \\, a^{2} + {\\left(b - 2 \\, z\\right)}^{2}\\right)}^{\\frac{3}{2}}}\\right)}\\)</html>"
      ],
      "text/latex": [
       "$\\displaystyle 4 \\, I a^{2} \\mu_{0} {\\left(\\frac{1}{{\\left(4 \\, a^{2} + {\\left(b + 2 \\, z\\right)}^{2}\\right)}^{\\frac{3}{2}}} + \\frac{1}{{\\left(4 \\, a^{2} + {\\left(b - 2 \\, z\\right)}^{2}\\right)}^{\\frac{3}{2}}}\\right)}$"
      ],
      "text/plain": [
       "4*I*a^2*mu_0*(1/(4*a^2 + (b + 2*z)^2)^(3/2) + 1/(4*a^2 + (b - 2*z)^2)^(3/2))"
      ]
     },
     "metadata": {},
     "output_type": "display_data"
    }
   ],
   "source": [
    "show(B)"
   ]
  },
  {
   "cell_type": "markdown",
   "id": "1fdcfeba",
   "metadata": {},
   "source": [
    " ## Now find the coefficients in taylor expansion"
   ]
  },
  {
   "cell_type": "code",
   "execution_count": 8,
   "id": "0a6e7691",
   "metadata": {},
   "outputs": [
    {
     "data": {
      "text/html": [
       "<html>\\(\\displaystyle \\frac{8 \\, I a^{2} \\mu_{0}}{{\\left(4 \\, a^{2} + b^{2}\\right)}^{\\frac{3}{2}}}\\)</html>"
      ],
      "text/latex": [
       "$\\displaystyle \\frac{8 \\, I a^{2} \\mu_{0}}{{\\left(4 \\, a^{2} + b^{2}\\right)}^{\\frac{3}{2}}}$"
      ],
      "text/plain": [
       "8*I*a^2*mu_0/(4*a^2 + b^2)^(3/2)"
      ]
     },
     "metadata": {},
     "output_type": "display_data"
    },
    {
     "data": {
      "text/html": [
       "<html>\\(\\displaystyle 0\\)</html>"
      ],
      "text/latex": [
       "$\\displaystyle 0$"
      ],
      "text/plain": [
       "0"
      ]
     },
     "metadata": {},
     "output_type": "display_data"
    },
    {
     "data": {
      "text/html": [
       "<html>\\(\\displaystyle -\\frac{384 \\, I {\\left(a + b\\right)} {\\left(a - b\\right)} a^{2} \\mu_{0}}{{\\left(4 \\, a^{2} + b^{2}\\right)}^{\\frac{7}{2}}}\\)</html>"
      ],
      "text/latex": [
       "$\\displaystyle -\\frac{384 \\, I {\\left(a + b\\right)} {\\left(a - b\\right)} a^{2} \\mu_{0}}{{\\left(4 \\, a^{2} + b^{2}\\right)}^{\\frac{7}{2}}}$"
      ],
      "text/plain": [
       "-384*I*(a + b)*(a - b)*a^2*mu_0/(4*a^2 + b^2)^(7/2)"
      ]
     },
     "metadata": {},
     "output_type": "display_data"
    },
    {
     "data": {
      "text/html": [
       "<html>\\(\\displaystyle 0\\)</html>"
      ],
      "text/latex": [
       "$\\displaystyle 0$"
      ],
      "text/plain": [
       "0"
      ]
     },
     "metadata": {},
     "output_type": "display_data"
    },
    {
     "data": {
      "text/html": [
       "<html>\\(\\displaystyle \\frac{46080 \\, {\\left(2 \\, a^{4} - 6 \\, a^{2} b^{2} + b^{4}\\right)} I a^{2} \\mu_{0}}{{\\left(4 \\, a^{2} + b^{2}\\right)}^{\\frac{11}{2}}}\\)</html>"
      ],
      "text/latex": [
       "$\\displaystyle \\frac{46080 \\, {\\left(2 \\, a^{4} - 6 \\, a^{2} b^{2} + b^{4}\\right)} I a^{2} \\mu_{0}}{{\\left(4 \\, a^{2} + b^{2}\\right)}^{\\frac{11}{2}}}$"
      ],
      "text/plain": [
       "46080*(2*a^4 - 6*a^2*b^2 + b^4)*I*a^2*mu_0/(4*a^2 + b^2)^(11/2)"
      ]
     },
     "metadata": {},
     "output_type": "display_data"
    }
   ],
   "source": [
    "c_0 = diff(B,z,0)(z = 0)\n",
    "c_1 = diff(B,z,1)(z = 0)\n",
    "c_2 = diff(B,z,2)(z = 0)\n",
    "c_3 = diff(B,z,3)(z = 0)\n",
    "c_4 = diff(B,z,4)(z = 0)\n",
    "\n",
    "show(c_0.factor())\n",
    "show(c_1.factor())\n",
    "show(c_2.factor())\n",
    "show(c_3.factor())\n",
    "show(c_4.factor())"
   ]
  },
  {
   "cell_type": "markdown",
   "id": "a20782ec",
   "metadata": {},
   "source": [
    "defining $d = \\sqrt{a^2 + b^2/4}$"
   ]
  },
  {
   "cell_type": "code",
   "execution_count": 9,
   "id": "2c4ced1c",
   "metadata": {},
   "outputs": [],
   "source": [
    "d = sqrt(a^2 + b^2/4)"
   ]
  },
  {
   "cell_type": "code",
   "execution_count": 10,
   "id": "f2b9e09e",
   "metadata": {},
   "outputs": [
    {
     "data": {
      "text/html": [
       "<html>\\(\\displaystyle 1\\)</html>"
      ],
      "text/latex": [
       "$\\displaystyle 1$"
      ],
      "text/plain": [
       "1"
      ]
     },
     "metadata": {},
     "output_type": "display_data"
    }
   ],
   "source": [
    "show( c_0 / (mu_0 * I * a^2/ d^3))"
   ]
  },
  {
   "cell_type": "code",
   "execution_count": 11,
   "id": "1fb7eb6a",
   "metadata": {},
   "outputs": [
    {
     "data": {
      "text/html": [
       "<html>\\(\\displaystyle -\\frac{3}{2} \\, a^{2} + \\frac{3}{2} \\, b^{2}\\)</html>"
      ],
      "text/latex": [
       "$\\displaystyle -\\frac{3}{2} \\, a^{2} + \\frac{3}{2} \\, b^{2}$"
      ],
      "text/plain": [
       "-3/2*a^2 + 3/2*b^2"
      ]
     },
     "metadata": {},
     "output_type": "display_data"
    }
   ],
   "source": [
    "show( (c_2 / (mu_0 * I * a^2/ d^7) / 2).full_simplify())"
   ]
  },
  {
   "cell_type": "code",
   "execution_count": 12,
   "id": "af04cf2e",
   "metadata": {},
   "outputs": [
    {
     "data": {
      "text/html": [
       "<html>\\(\\displaystyle \\frac{15}{8} \\, a^{4} - \\frac{45}{8} \\, a^{2} b^{2} + \\frac{15}{16} \\, b^{4}\\)</html>"
      ],
      "text/latex": [
       "$\\displaystyle \\frac{15}{8} \\, a^{4} - \\frac{45}{8} \\, a^{2} b^{2} + \\frac{15}{16} \\, b^{4}$"
      ],
      "text/plain": [
       "15/8*a^4 - 45/8*a^2*b^2 + 15/16*b^4"
      ]
     },
     "metadata": {},
     "output_type": "display_data"
    }
   ],
   "source": [
    "show( (c_4 / (mu_0 * I * a^2/ d^11) / 24).full_simplify())"
   ]
  },
  {
   "cell_type": "code",
   "execution_count": null,
   "id": "5377a7d4",
   "metadata": {},
   "outputs": [],
   "source": []
  }
 ],
 "metadata": {
  "kernelspec": {
   "display_name": "SageMath 9.7",
   "language": "sage",
   "name": "SageMath-9.7"
  },
  "language_info": {
   "codemirror_mode": {
    "name": "ipython",
    "version": 3
   },
   "file_extension": ".py",
   "mimetype": "text/x-python",
   "name": "python",
   "nbconvert_exporter": "python",
   "pygments_lexer": "ipython3",
   "version": "3.10.5"
  }
 },
 "nbformat": 4,
 "nbformat_minor": 5
}
