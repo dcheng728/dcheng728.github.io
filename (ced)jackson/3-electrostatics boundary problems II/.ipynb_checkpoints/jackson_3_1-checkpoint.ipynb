{
 "cells": [
  {
   "cell_type": "code",
   "execution_count": null,
   "id": "b30c2884",
   "metadata": {},
   "outputs": [],
   "source": [
    "# this script determines the coefficients for jackson exercise 3.1\n",
    "# author: davidson cheng"
   ]
  },
  {
   "cell_type": "code",
   "execution_count": 1,
   "id": "614a7c11",
   "metadata": {},
   "outputs": [],
   "source": [
    "c_plus = [1,  1/2, 0, -1/8, 0]\n",
    "c_minus= [1, -1/2, 0,  1/8, 0]"
   ]
  },
  {
   "cell_type": "code",
   "execution_count": 7,
   "id": "33ec543c",
   "metadata": {},
   "outputs": [],
   "source": [
    "AV(a,b, c_p, c_m )= ((2*l+1)/2 ) * (c_p - (a/b)^(-(l+1)) * c_m) / (a^l - b^l * (a/b)^(-(l+1)))"
   ]
  },
  {
   "cell_type": "code",
   "execution_count": 10,
   "id": "d920f961",
   "metadata": {},
   "outputs": [],
   "source": [
    "BV(a,b, c_p, c_m )= ((2*l+1)/2 ) * ((b/a)^l * c_p - c_m ) / (a^(-(l+1)) * (b/a)^l - b^(-(l+1)))"
   ]
  },
  {
   "cell_type": "code",
   "execution_count": 11,
   "id": "8fbdbd99",
   "metadata": {},
   "outputs": [
    {
     "data": {
      "text/html": [
       "<html>\\(\\displaystyle \\left( a, b, c_{p}, c_{m} \\right) \\ {\\mapsto} \\ \\frac{{\\left(c_{p} \\left(\\frac{b}{a}\\right)^{l} - c_{m}\\right)} {\\left(2 \\, l + 1\\right)}}{2 \\, {\\left(a^{-l - 1} \\left(\\frac{b}{a}\\right)^{l} - b^{-l - 1}\\right)}}\\)</html>"
      ],
      "text/latex": [
       "$\\displaystyle \\left( a, b, c_{p}, c_{m} \\right) \\ {\\mapsto} \\ \\frac{{\\left(c_{p} \\left(\\frac{b}{a}\\right)^{l} - c_{m}\\right)} {\\left(2 \\, l + 1\\right)}}{2 \\, {\\left(a^{-l - 1} \\left(\\frac{b}{a}\\right)^{l} - b^{-l - 1}\\right)}}$"
      ],
      "text/plain": [
       "(a, b, c_p, c_m) |--> 1/2*(c_p*(b/a)^l - c_m)*(2*l + 1)/(a^(-l - 1)*(b/a)^l - b^(-l - 1))"
      ]
     },
     "metadata": {},
     "output_type": "display_data"
    }
   ],
   "source": [
    "show(BV)"
   ]
  },
  {
   "cell_type": "code",
   "execution_count": 8,
   "id": "95f9236c",
   "metadata": {},
   "outputs": [
    {
     "data": {
      "text/html": [
       "<html>\\(\\displaystyle \\left( a, b, c_{p}, c_{m} \\right) \\ {\\mapsto} \\ \\frac{{\\left(c_{m} \\left(\\frac{a}{b}\\right)^{-l - 1} - c_{p}\\right)} {\\left(2 \\, l + 1\\right)}}{2 \\, {\\left(b^{l} \\left(\\frac{a}{b}\\right)^{-l - 1} - a^{l}\\right)}}\\)</html>"
      ],
      "text/latex": [
       "$\\displaystyle \\left( a, b, c_{p}, c_{m} \\right) \\ {\\mapsto} \\ \\frac{{\\left(c_{m} \\left(\\frac{a}{b}\\right)^{-l - 1} - c_{p}\\right)} {\\left(2 \\, l + 1\\right)}}{2 \\, {\\left(b^{l} \\left(\\frac{a}{b}\\right)^{-l - 1} - a^{l}\\right)}}$"
      ],
      "text/plain": [
       "(a, b, c_p, c_m) |--> 1/2*(c_m*(a/b)^(-l - 1) - c_p)*(2*l + 1)/(b^l*(a/b)^(-l - 1) - a^l)"
      ]
     },
     "metadata": {},
     "output_type": "display_data"
    }
   ],
   "source": [
    "show(AV)"
   ]
  },
  {
   "cell_type": "code",
   "execution_count": null,
   "id": "e9153450",
   "metadata": {},
   "outputs": [],
   "source": [
    "# upon evaluation, we find that for l <= 4, the nonvanishing coefficients for both A and B are 0,1,3"
   ]
  }
 ],
 "metadata": {
  "kernelspec": {
   "display_name": "SageMath 9.7",
   "language": "sage",
   "name": "sagemath-9.7"
  },
  "language_info": {
   "codemirror_mode": {
    "name": "ipython",
    "version": 3
   },
   "file_extension": ".py",
   "mimetype": "text/x-python",
   "name": "python",
   "nbconvert_exporter": "python",
   "pygments_lexer": "ipython3",
   "version": "3.10.5"
  }
 },
 "nbformat": 4,
 "nbformat_minor": 5
}
