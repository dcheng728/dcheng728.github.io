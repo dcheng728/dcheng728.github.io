{
 "cells": [
  {
   "cell_type": "markdown",
   "id": "6b441576",
   "metadata": {},
   "source": [
    "The series solution is\n",
    "\n",
    "$$\\Phi = \\sum_l [A_l r^l + B_l r^(l+1) ] P_l[\\cos \\theta]$$"
   ]
  },
  {
   "cell_type": "markdown",
   "id": "ef471cfb",
   "metadata": {},
   "source": [
    "The boundary condition suggests\n",
    "\n",
    "$$A_l a^l + B_l a^{-(l+1)} = \\frac{2l+1}{2} \\int_0^{\\pi/2} V P_l[\\cos \\theta] \\sin \\theta d\\theta$$\n",
    "\n",
    "$$A_l b^l + B_l b^{-(l+1)} = \\frac{2l+1}{2} \\int_{\\pi/2}^\\pi V P_l[\\cos \\theta] \\sin \\theta d\\theta$$"
   ]
  },
  {
   "cell_type": "markdown",
   "id": "1f6fe8a9",
   "metadata": {},
   "source": [
    "Note that the integrals can be written as \n",
    "\n",
    "$$\\int_0^{\\pi/2} V P_l[\\cos \\theta] \\sin \\theta d\\theta = \\int_0^1 V P_l[x] dx$$\n",
    "\n",
    "$$\\int_{\\pi/2}^\\pi V P_l[\\cos \\theta] \\sin \\theta d\\theta = \\int_{-1}^0 V P_l[x] dx$$"
   ]
  },
  {
   "cell_type": "markdown",
   "id": "4b8db0d8",
   "metadata": {},
   "source": [
    "The parity of legendre polynomials given by\n",
    "\n",
    "$$\\int_{-1}^0 V P_l[x] dx = (-1)^l \\int_0^1 V P_l[x] dx$$"
   ]
  },
  {
   "cell_type": "markdown",
   "id": "3f456a6e",
   "metadata": {},
   "source": [
    "Putting these all together, we can write the relation in coefficients in the form\n",
    "\n",
    "$$A_l a^l + B_l a^{-(l+1)} =(-1)^l [A_l b^l + B_l b^{-(l+1)}] = \\frac{2l+1}{2}C_l$$\n",
    "\n",
    "where \n",
    "\n",
    "$$C_l = \\int_0^1 V P_l[x] dx$$"
   ]
  },
  {
   "cell_type": "code",
   "execution_count": 96,
   "id": "90266efc",
   "metadata": {},
   "outputs": [],
   "source": [
    "A,B,C = var('A,B,C')\n",
    "\n",
    "a,b,l = var('a,b,l')"
   ]
  },
  {
   "cell_type": "code",
   "execution_count": 97,
   "id": "7286c2cd",
   "metadata": {},
   "outputs": [
    {
     "data": {
      "text/html": [
       "<html>\\(\\displaystyle \\left[\\left[A = \\frac{{\\left(2 \\, b^{l + 1} l + b^{l + 1}\\right)} C + 2 \\, C a^{l + 1}}{2 \\, {\\left(a^{2 \\, l + 1} - b^{2 \\, l + 1}\\right)}}, B = -\\frac{{\\left(2 \\, b^{l + 1} l + b^{l + 1}\\right)} C a^{2 \\, l + 1} + 2 \\, C a^{l + 1} b^{2 \\, l + 1}}{2 \\, {\\left(a^{2 \\, l + 1} - b^{2 \\, l + 1}\\right)}}\\right]\\right]\\)</html>"
      ],
      "text/latex": [
       "$\\displaystyle \\left[\\left[A = \\frac{{\\left(2 \\, b^{l + 1} l + b^{l + 1}\\right)} C + 2 \\, C a^{l + 1}}{2 \\, {\\left(a^{2 \\, l + 1} - b^{2 \\, l + 1}\\right)}}, B = -\\frac{{\\left(2 \\, b^{l + 1} l + b^{l + 1}\\right)} C a^{2 \\, l + 1} + 2 \\, C a^{l + 1} b^{2 \\, l + 1}}{2 \\, {\\left(a^{2 \\, l + 1} - b^{2 \\, l + 1}\\right)}}\\right]\\right]$"
      ],
      "text/plain": [
       "[[A == 1/2*((2*b^(l + 1)*l + b^(l + 1))*C + 2*C*a^(l + 1))/(a^(2*l + 1) - b^(2*l + 1)), B == -1/2*((2*b^(l + 1)*l + b^(l + 1))*C*a^(2*l + 1) + 2*C*a^(l + 1)*b^(2*l + 1))/(a^(2*l + 1) - b^(2*l + 1))]]"
      ]
     },
     "metadata": {},
     "output_type": "display_data"
    },
    {
     "data": {
      "text/html": [
       "<html>\\(\\displaystyle \\left[\\left[A = -\\frac{{\\left(2 \\, b^{l + 1} l + b^{l + 1}\\right)} C - 2 \\, C a^{l + 1}}{2 \\, {\\left(a^{2 \\, l + 1} - b^{2 \\, l + 1}\\right)}}, B = \\frac{{\\left(2 \\, b^{l + 1} l + b^{l + 1}\\right)} C a^{2 \\, l + 1} - 2 \\, C a^{l + 1} b^{2 \\, l + 1}}{2 \\, {\\left(a^{2 \\, l + 1} - b^{2 \\, l + 1}\\right)}}\\right]\\right]\\)</html>"
      ],
      "text/latex": [
       "$\\displaystyle \\left[\\left[A = -\\frac{{\\left(2 \\, b^{l + 1} l + b^{l + 1}\\right)} C - 2 \\, C a^{l + 1}}{2 \\, {\\left(a^{2 \\, l + 1} - b^{2 \\, l + 1}\\right)}}, B = \\frac{{\\left(2 \\, b^{l + 1} l + b^{l + 1}\\right)} C a^{2 \\, l + 1} - 2 \\, C a^{l + 1} b^{2 \\, l + 1}}{2 \\, {\\left(a^{2 \\, l + 1} - b^{2 \\, l + 1}\\right)}}\\right]\\right]$"
      ],
      "text/plain": [
       "[[A == -1/2*((2*b^(l + 1)*l + b^(l + 1))*C - 2*C*a^(l + 1))/(a^(2*l + 1) - b^(2*l + 1)), B == 1/2*((2*b^(l + 1)*l + b^(l + 1))*C*a^(2*l + 1) - 2*C*a^(l + 1)*b^(2*l + 1))/(a^(2*l + 1) - b^(2*l + 1))]]"
      ]
     },
     "metadata": {},
     "output_type": "display_data"
    }
   ],
   "source": [
    "#for l odd\n",
    "expr_odd = solve([A * a^l + B * a^(-l-1) == C, A * b^l + B * b^(-l-1) == -C * ((2*l +1)/2)], A,B)\n",
    "show(expr_odd)\n",
    "\n",
    "#for l even\n",
    "expr_even = solve([A * a^l + B * a^(-l-1) == C, A * b^l + B * b^(-l-1) == C * ((2*l +1)/2)], A,B)\n",
    "show(expr_even)"
   ]
  },
  {
   "cell_type": "markdown",
   "id": "dd08227f",
   "metadata": {},
   "source": [
    "I hand computed the C values: $$C_0 = 1, C_1 = 1/2, C_2 = 0, C_3 = -1/8, C_4 = 0$$"
   ]
  },
  {
   "cell_type": "code",
   "execution_count": 98,
   "id": "eadc9c68",
   "metadata": {},
   "outputs": [],
   "source": [
    "C_hand_computed = [1, 1/2, 0, -1, 0]\n",
    "r, theta = var('r,theta')\n",
    "\n",
    "Phi = 0\n",
    "\n",
    "for i in range(4):\n",
    "    Phi_temp = (A * r^i + B*r^(-i-1) * gen_legendre_P(i,0,cos(theta)))\n",
    "    if i%2 == 0:\n",
    "        Phi_temp = Phi_temp.substitute(expr_even)\n",
    "    else:\n",
    "        Phi_temp = Phi_temp.substitute(expr_odd)\n",
    "    \n",
    "    Phi_temp = Phi_temp.substitute(C = C_hand_computed[i], l = i)\n",
    "    Phi += Phi_temp"
   ]
  },
  {
   "cell_type": "code",
   "execution_count": 100,
   "id": "0c95370a",
   "metadata": {},
   "outputs": [
    {
     "data": {
      "text/html": [
       "<html>\\(\\displaystyle -\\frac{{\\left(2 \\, a^{4} + 7 \\, b^{4}\\right)} r^{3}}{2 \\, {\\left(a^{7} - b^{7}\\right)}} + \\frac{{\\left(2 \\, a^{2} + 3 \\, b^{2}\\right)} r}{4 \\, {\\left(a^{3} - b^{3}\\right)}} + \\frac{2 \\, a - b}{2 \\, {\\left(a - b\\right)}} - \\frac{a b}{2 \\, {\\left(a - b\\right)} r} - \\frac{{\\left(3 \\, a^{3} b^{2} + 2 \\, a^{2} b^{3}\\right)} \\cos\\left(\\theta\\right)}{4 \\, {\\left(a^{3} - b^{3}\\right)} r^{2}} + \\frac{{\\left(7 \\, a^{7} b^{4} + 2 \\, a^{4} b^{7}\\right)} {\\left(5 \\, \\cos\\left(\\theta\\right)^{3} - 3 \\, \\cos\\left(\\theta\\right)\\right)}}{4 \\, {\\left(a^{7} - b^{7}\\right)} r^{4}}\\)</html>"
      ],
      "text/latex": [
       "$\\displaystyle -\\frac{{\\left(2 \\, a^{4} + 7 \\, b^{4}\\right)} r^{3}}{2 \\, {\\left(a^{7} - b^{7}\\right)}} + \\frac{{\\left(2 \\, a^{2} + 3 \\, b^{2}\\right)} r}{4 \\, {\\left(a^{3} - b^{3}\\right)}} + \\frac{2 \\, a - b}{2 \\, {\\left(a - b\\right)}} - \\frac{a b}{2 \\, {\\left(a - b\\right)} r} - \\frac{{\\left(3 \\, a^{3} b^{2} + 2 \\, a^{2} b^{3}\\right)} \\cos\\left(\\theta\\right)}{4 \\, {\\left(a^{3} - b^{3}\\right)} r^{2}} + \\frac{{\\left(7 \\, a^{7} b^{4} + 2 \\, a^{4} b^{7}\\right)} {\\left(5 \\, \\cos\\left(\\theta\\right)^{3} - 3 \\, \\cos\\left(\\theta\\right)\\right)}}{4 \\, {\\left(a^{7} - b^{7}\\right)} r^{4}}$"
      ],
      "text/plain": [
       "-1/2*(2*a^4 + 7*b^4)*r^3/(a^7 - b^7) + 1/4*(2*a^2 + 3*b^2)*r/(a^3 - b^3) + 1/2*(2*a - b)/(a - b) - 1/2*a*b/((a - b)*r) - 1/4*(3*a^3*b^2 + 2*a^2*b^3)*cos(theta)/((a^3 - b^3)*r^2) + 1/4*(7*a^7*b^4 + 2*a^4*b^7)*(5*cos(theta)^3 - 3*cos(theta))/((a^7 - b^7)*r^4)"
      ]
     },
     "metadata": {},
     "output_type": "display_data"
    }
   ],
   "source": [
    "#The first few terms up to l = 4\n",
    "show(Phi)"
   ]
  },
  {
   "cell_type": "code",
   "execution_count": null,
   "id": "bafd3294",
   "metadata": {},
   "outputs": [],
   "source": []
  }
 ],
 "metadata": {
  "kernelspec": {
   "display_name": "SageMath 9.7",
   "language": "sage",
   "name": "SageMath-9.7"
  },
  "language_info": {
   "codemirror_mode": {
    "name": "ipython",
    "version": 3
   },
   "file_extension": ".py",
   "mimetype": "text/x-python",
   "name": "python",
   "nbconvert_exporter": "python",
   "pygments_lexer": "ipython3",
   "version": "3.10.5"
  }
 },
 "nbformat": 4,
 "nbformat_minor": 5
}
