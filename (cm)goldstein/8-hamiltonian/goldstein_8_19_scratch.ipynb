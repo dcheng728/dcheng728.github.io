{
 "cells": [
  {
   "cell_type": "markdown",
   "metadata": {},
   "source": [
    "Parameterize point of suspension by $(x,ax^2)$, then the mass is parameterized by $(x+l \\sin \\phi, ax^2 - l \\cos \\phi)$\n",
    "\n",
    "We are thus led to \n",
    "\n",
    "$$T = \\frac{m}{2} [(\\dot{x} + l \\cos \\phi \\dot{\\phi})^2 + (2ax \\dot{x} + l \\sin \\phi \\dot{\\phi})^2]$$\n",
    "\n",
    "$$V = mg(ax^2 - l \\cos \\phi)$$"
   ]
  },
  {
   "cell_type": "code",
   "execution_count": 1,
   "metadata": {},
   "outputs": [],
   "source": [
    "x = var('x')\n",
    "phi = var('phi')\n",
    "xd = var('xd', latex_name = '\\dot{x}')\n",
    "phid = var('phid', latex_name = '\\dot{\\phi}')\n",
    "\n",
    "m,l,a,g = var('m,l,a,g')"
   ]
  },
  {
   "cell_type": "code",
   "execution_count": 2,
   "metadata": {},
   "outputs": [
    {
     "data": {
      "text/html": [
       "<html>\\(\\displaystyle \\frac{1}{2} \\, {\\left({\\left(2 \\, a x {\\dot{x}} + l {\\dot{\\phi}} \\sin\\left(\\phi\\right)\\right)}^{2} + {\\left(l {\\dot{\\phi}} \\cos\\left(\\phi\\right) + {\\dot{x}}^{2}\\right)}^{2}\\right)} m\\)</html>"
      ],
      "text/latex": [
       "$\\displaystyle \\frac{1}{2} \\, {\\left({\\left(2 \\, a x {\\dot{x}} + l {\\dot{\\phi}} \\sin\\left(\\phi\\right)\\right)}^{2} + {\\left(l {\\dot{\\phi}} \\cos\\left(\\phi\\right) + {\\dot{x}}^{2}\\right)}^{2}\\right)} m$"
      ],
      "text/plain": [
       "1/2*((2*a*x*xd + l*phid*sin(phi))^2 + (l*phid*cos(phi) + xd^2)^2)*m"
      ]
     },
     "metadata": {},
     "output_type": "display_data"
    }
   ],
   "source": [
    "T = m/2 *  (  (xd^2 + l * cos(phi) * phid)^2   + (2 * a * x * xd + l * sin(phi) * phid)^2           )\n",
    "show(T)"
   ]
  },
  {
   "cell_type": "code",
   "execution_count": 3,
   "metadata": {},
   "outputs": [
    {
     "data": {
      "text/html": [
       "<html>\\(\\displaystyle {\\left(a x^{2} - l \\cos\\left(\\phi\\right)\\right)} g m\\)</html>"
      ],
      "text/latex": [
       "$\\displaystyle {\\left(a x^{2} - l \\cos\\left(\\phi\\right)\\right)} g m$"
      ],
      "text/plain": [
       "(a*x^2 - l*cos(phi))*g*m"
      ]
     },
     "metadata": {},
     "output_type": "display_data"
    }
   ],
   "source": [
    "V = m * g * (a * x^2 - l * cos(phi))\n",
    "show(V)"
   ]
  },
  {
   "cell_type": "code",
   "execution_count": 9,
   "metadata": {},
   "outputs": [],
   "source": [
    "L = T - V"
   ]
  },
  {
   "cell_type": "code",
   "execution_count": 10,
   "metadata": {},
   "outputs": [],
   "source": [
    "px = var('px', latex_name = 'p_x')\n",
    "pphi = var('pphi', latex_name = 'p_\\phi')\n",
    "\n",
    "px_eq = px == diff(L, xd)\n",
    "pphi_eq = pphi == diff(L,phid)"
   ]
  },
  {
   "cell_type": "code",
   "execution_count": 24,
   "metadata": {},
   "outputs": [
    {
     "data": {
      "text/html": [
       "<html>\\(\\displaystyle {p_x} = 2 \\, {\\left({\\left(2 \\, a x {\\dot{x}} + l {\\dot{\\phi}} \\sin\\left(\\phi\\right)\\right)} a x + {\\left(l {\\dot{\\phi}} \\cos\\left(\\phi\\right) + {\\dot{x}}^{2}\\right)} {\\dot{x}}\\right)} m\\)</html>"
      ],
      "text/latex": [
       "$\\displaystyle {p_x} = 2 \\, {\\left({\\left(2 \\, a x {\\dot{x}} + l {\\dot{\\phi}} \\sin\\left(\\phi\\right)\\right)} a x + {\\left(l {\\dot{\\phi}} \\cos\\left(\\phi\\right) + {\\dot{x}}^{2}\\right)} {\\dot{x}}\\right)} m$"
      ],
      "text/plain": [
       "px == 2*((2*a*x*xd + l*phid*sin(phi))*a*x + (l*phid*cos(phi) + xd^2)*xd)*m"
      ]
     },
     "metadata": {},
     "output_type": "display_data"
    },
    {
     "data": {
      "text/html": [
       "<html>\\(\\displaystyle {p_\\phi} = {\\left({\\left(l {\\dot{\\phi}} \\cos\\left(\\phi\\right) + {\\dot{x}}^{2}\\right)} l \\cos\\left(\\phi\\right) + {\\left(2 \\, a x {\\dot{x}} + l {\\dot{\\phi}} \\sin\\left(\\phi\\right)\\right)} l \\sin\\left(\\phi\\right)\\right)} m\\)</html>"
      ],
      "text/latex": [
       "$\\displaystyle {p_\\phi} = {\\left({\\left(l {\\dot{\\phi}} \\cos\\left(\\phi\\right) + {\\dot{x}}^{2}\\right)} l \\cos\\left(\\phi\\right) + {\\left(2 \\, a x {\\dot{x}} + l {\\dot{\\phi}} \\sin\\left(\\phi\\right)\\right)} l \\sin\\left(\\phi\\right)\\right)} m$"
      ],
      "text/plain": [
       "pphi == ((l*phid*cos(phi) + xd^2)*l*cos(phi) + (2*a*x*xd + l*phid*sin(phi))*l*sin(phi))*m"
      ]
     },
     "metadata": {},
     "output_type": "display_data"
    }
   ],
   "source": [
    "show(px_eq)\n",
    "show(pphi_eq)"
   ]
  },
  {
   "cell_type": "code",
   "execution_count": 32,
   "metadata": {},
   "outputs": [
    {
     "data": {
      "text/html": [
       "<html>\\(\\displaystyle {\\left(a x^{2} - l \\cos\\left(\\phi\\right)\\right)} g m + \\frac{1}{2} \\, {\\left({\\left(2 \\, a x {\\dot{x}} + l {\\dot{\\phi}} \\sin\\left(\\phi\\right)\\right)}^{2} + {\\left(l {\\dot{\\phi}} \\cos\\left(\\phi\\right) + {\\dot{x}}^{2}\\right)}^{2}\\right)} m\\)</html>"
      ],
      "text/latex": [
       "$\\displaystyle {\\left(a x^{2} - l \\cos\\left(\\phi\\right)\\right)} g m + \\frac{1}{2} \\, {\\left({\\left(2 \\, a x {\\dot{x}} + l {\\dot{\\phi}} \\sin\\left(\\phi\\right)\\right)}^{2} + {\\left(l {\\dot{\\phi}} \\cos\\left(\\phi\\right) + {\\dot{x}}^{2}\\right)}^{2}\\right)} m$"
      ],
      "text/plain": [
       "(a*x^2 - l*cos(phi))*g*m + 1/2*((2*a*x*xd + l*phid*sin(phi))^2 + (l*phid*cos(phi) + xd^2)^2)*m"
      ]
     },
     "metadata": {},
     "output_type": "display_data"
    }
   ],
   "source": [
    "H = T + V\n",
    "show(H)"
   ]
  },
  {
   "cell_type": "code",
   "execution_count": 34,
   "metadata": {},
   "outputs": [
    {
     "data": {
      "text/html": [
       "<html>\\(\\displaystyle {\\left(a x^{2} - l \\cos\\left(\\phi\\right)\\right)} g m + \\frac{1}{2} \\, {\\left({\\left(2 \\, a x {\\dot{x}} + l {\\dot{\\phi}} \\sin\\left(\\phi\\right)\\right)}^{2} + {\\left(l {\\dot{\\phi}} \\cos\\left(\\phi\\right) + {\\dot{x}}^{2}\\right)}^{2}\\right)} m\\)</html>"
      ],
      "text/latex": [
       "$\\displaystyle {\\left(a x^{2} - l \\cos\\left(\\phi\\right)\\right)} g m + \\frac{1}{2} \\, {\\left({\\left(2 \\, a x {\\dot{x}} + l {\\dot{\\phi}} \\sin\\left(\\phi\\right)\\right)}^{2} + {\\left(l {\\dot{\\phi}} \\cos\\left(\\phi\\right) + {\\dot{x}}^{2}\\right)}^{2}\\right)} m$"
      ],
      "text/plain": [
       "(a*x^2 - l*cos(phi))*g*m + 1/2*((2*a*x*xd + l*phid*sin(phi))^2 + (l*phid*cos(phi) + xd^2)^2)*m"
      ]
     },
     "metadata": {},
     "output_type": "display_data"
    }
   ],
   "source": [
    "show(H.substitute([px_eq,pphi_eq]))"
   ]
  },
  {
   "cell_type": "code",
   "execution_count": 25,
   "metadata": {},
   "outputs": [
    {
     "data": {
      "text/html": [
       "<html>\\(\\displaystyle \\frac{{p_x}}{m} = 4 \\, a^{2} x^{2} {\\dot{x}} + 2 \\, a l {\\dot{\\phi}} x \\sin\\left(\\phi\\right) + 2 \\, l {\\dot{\\phi}} {\\dot{x}} \\cos\\left(\\phi\\right) + 2 \\, {\\dot{x}}^{3}\\)</html>"
      ],
      "text/latex": [
       "$\\displaystyle \\frac{{p_x}}{m} = 4 \\, a^{2} x^{2} {\\dot{x}} + 2 \\, a l {\\dot{\\phi}} x \\sin\\left(\\phi\\right) + 2 \\, l {\\dot{\\phi}} {\\dot{x}} \\cos\\left(\\phi\\right) + 2 \\, {\\dot{x}}^{3}$"
      ],
      "text/plain": [
       "px/m == 4*a^2*x^2*xd + 2*a*l*phid*x*sin(phi) + 2*l*phid*xd*cos(phi) + 2*xd^3"
      ]
     },
     "metadata": {},
     "output_type": "display_data"
    }
   ],
   "source": [
    "show( (px_eq /m).factor())"
   ]
  },
  {
   "cell_type": "code",
   "execution_count": 26,
   "metadata": {},
   "outputs": [
    {
     "data": {
      "text/html": [
       "<html>\\(\\displaystyle \\frac{{p_\\phi}}{m} = {\\left(l {\\dot{\\phi}} \\cos\\left(\\phi\\right) + {\\dot{x}}^{2}\\right)} l \\cos\\left(\\phi\\right) + {\\left(2 \\, a x {\\dot{x}} + l {\\dot{\\phi}} \\sin\\left(\\phi\\right)\\right)} l \\sin\\left(\\phi\\right)\\)</html>"
      ],
      "text/latex": [
       "$\\displaystyle \\frac{{p_\\phi}}{m} = {\\left(l {\\dot{\\phi}} \\cos\\left(\\phi\\right) + {\\dot{x}}^{2}\\right)} l \\cos\\left(\\phi\\right) + {\\left(2 \\, a x {\\dot{x}} + l {\\dot{\\phi}} \\sin\\left(\\phi\\right)\\right)} l \\sin\\left(\\phi\\right)$"
      ],
      "text/plain": [
       "pphi/m == (l*phid*cos(phi) + xd^2)*l*cos(phi) + (2*a*x*xd + l*phid*sin(phi))*l*sin(phi)"
      ]
     },
     "metadata": {},
     "output_type": "display_data"
    }
   ],
   "source": [
    "show( (pphi_eq/m))"
   ]
  },
  {
   "cell_type": "code",
   "execution_count": 30,
   "metadata": {},
   "outputs": [
    {
     "data": {
      "text/html": [
       "<html>\\(\\displaystyle -\\frac{{p_\\phi} - {p_x}}{m} = 2 \\, a l {\\dot{\\phi}} x \\sin\\left(\\phi\\right) - l {\\dot{x}}^{2} \\cos\\left(\\phi\\right) - l^{2} {\\dot{\\phi}} + 2 \\, {\\dot{x}}^{3} + 2 \\, {\\left(2 \\, a^{2} x^{2} - a l x \\sin\\left(\\phi\\right) + l {\\dot{\\phi}} \\cos\\left(\\phi\\right)\\right)} {\\dot{x}}\\)</html>"
      ],
      "text/latex": [
       "$\\displaystyle -\\frac{{p_\\phi} - {p_x}}{m} = 2 \\, a l {\\dot{\\phi}} x \\sin\\left(\\phi\\right) - l {\\dot{x}}^{2} \\cos\\left(\\phi\\right) - l^{2} {\\dot{\\phi}} + 2 \\, {\\dot{x}}^{3} + 2 \\, {\\left(2 \\, a^{2} x^{2} - a l x \\sin\\left(\\phi\\right) + l {\\dot{\\phi}} \\cos\\left(\\phi\\right)\\right)} {\\dot{x}}$"
      ],
      "text/plain": [
       "-(pphi - px)/m == 2*a*l*phid*x*sin(phi) - l*xd^2*cos(phi) - l^2*phid + 2*xd^3 + 2*(2*a^2*x^2 - a*l*x*sin(phi) + l*phid*cos(phi))*xd"
      ]
     },
     "metadata": {},
     "output_type": "display_data"
    }
   ],
   "source": [
    "show( (px_eq /m - pphi_eq/m).full_simplify())"
   ]
  },
  {
   "cell_type": "code",
   "execution_count": 18,
   "metadata": {},
   "outputs": [],
   "source": [
    "q_in_p = solve([px_eq, pphi_eq], xd)"
   ]
  },
  {
   "cell_type": "code",
   "execution_count": 19,
   "metadata": {},
   "outputs": [
    {
     "data": {
      "text/plain": [
       "[]"
      ]
     },
     "execution_count": 19,
     "metadata": {},
     "output_type": "execute_result"
    }
   ],
   "source": [
    "q_in_p"
   ]
  },
  {
   "cell_type": "code",
   "execution_count": null,
   "metadata": {},
   "outputs": [],
   "source": []
  }
 ],
 "metadata": {
  "kernelspec": {
   "display_name": "SageMath 9.7",
   "language": "sage",
   "name": "SageMath-9.7"
  },
  "language_info": {
   "codemirror_mode": {
    "name": "ipython",
    "version": 3
   },
   "file_extension": ".py",
   "mimetype": "text/x-python",
   "name": "python",
   "nbconvert_exporter": "python",
   "pygments_lexer": "ipython3",
   "version": "3.10.5"
  }
 },
 "nbformat": 4,
 "nbformat_minor": 2
}
