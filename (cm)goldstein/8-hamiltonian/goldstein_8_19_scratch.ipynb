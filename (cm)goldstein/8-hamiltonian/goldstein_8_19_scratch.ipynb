{
 "cells": [
  {
   "cell_type": "markdown",
   "metadata": {},
   "source": [
    "Parameterize point of suspension by $(x,ax^2)$, then the mass is parameterized by $(x+l \\sin \\phi, ax^2 - l \\cos \\phi)$\n",
    "\n",
    "We are thus led to \n",
    "\n",
    "$$T = \\frac{m}{2} [(\\dot{x} + l \\cos \\phi \\dot{\\phi})^2 + (2ax \\dot{x} + l \\sin \\phi \\dot{\\phi})^2]$$\n",
    "\n",
    "$$V = mg(ax^2 - l \\cos \\phi)$$"
   ]
  },
  {
   "cell_type": "code",
   "execution_count": 1,
   "metadata": {},
   "outputs": [],
   "source": [
    "x = var('x')\n",
    "phi = var('phi')\n",
    "xd = var('xd', latex_name = '\\dot{x}')\n",
    "phid = var('phid', latex_name = '\\dot{\\phi}')\n",
    "\n",
    "m,l,a,g = var('m,l,a,g')"
   ]
  },
  {
   "cell_type": "code",
   "execution_count": 7,
   "metadata": {},
   "outputs": [
    {
     "data": {
      "text/html": [
       "<html>\\(\\displaystyle \\frac{1}{2} \\, {\\left({\\left(2 \\, a x {\\dot{x}} + l {\\dot{\\phi}} \\sin\\left(\\phi\\right)\\right)}^{2} + {\\left(l {\\dot{\\phi}} \\cos\\left(\\phi\\right) + {\\dot{x}}^{2}\\right)}^{2}\\right)} m\\)</html>"
      ],
      "text/latex": [
       "$\\displaystyle \\frac{1}{2} \\, {\\left({\\left(2 \\, a x {\\dot{x}} + l {\\dot{\\phi}} \\sin\\left(\\phi\\right)\\right)}^{2} + {\\left(l {\\dot{\\phi}} \\cos\\left(\\phi\\right) + {\\dot{x}}^{2}\\right)}^{2}\\right)} m$"
      ],
      "text/plain": [
       "1/2*((2*a*x*xd + l*phid*sin(phi))^2 + (l*phid*cos(phi) + xd^2)^2)*m"
      ]
     },
     "metadata": {},
     "output_type": "display_data"
    },
    {
     "data": {
      "text/html": [
       "<html>\\(\\displaystyle {\\left(a x^{2} - l \\cos\\left(\\phi\\right)\\right)} g m\\)</html>"
      ],
      "text/latex": [
       "$\\displaystyle {\\left(a x^{2} - l \\cos\\left(\\phi\\right)\\right)} g m$"
      ],
      "text/plain": [
       "(a*x^2 - l*cos(phi))*g*m"
      ]
     },
     "metadata": {},
     "output_type": "display_data"
    },
    {
     "data": {
      "text/html": [
       "<html>\\(\\displaystyle -{\\left(a x^{2} - l \\cos\\left(\\phi\\right)\\right)} g m + \\frac{1}{2} \\, {\\left({\\left(2 \\, a x {\\dot{x}} + l {\\dot{\\phi}} \\sin\\left(\\phi\\right)\\right)}^{2} + {\\left(l {\\dot{\\phi}} \\cos\\left(\\phi\\right) + {\\dot{x}}^{2}\\right)}^{2}\\right)} m\\)</html>"
      ],
      "text/latex": [
       "$\\displaystyle -{\\left(a x^{2} - l \\cos\\left(\\phi\\right)\\right)} g m + \\frac{1}{2} \\, {\\left({\\left(2 \\, a x {\\dot{x}} + l {\\dot{\\phi}} \\sin\\left(\\phi\\right)\\right)}^{2} + {\\left(l {\\dot{\\phi}} \\cos\\left(\\phi\\right) + {\\dot{x}}^{2}\\right)}^{2}\\right)} m$"
      ],
      "text/plain": [
       "-(a*x^2 - l*cos(phi))*g*m + 1/2*((2*a*x*xd + l*phid*sin(phi))^2 + (l*phid*cos(phi) + xd^2)^2)*m"
      ]
     },
     "metadata": {},
     "output_type": "display_data"
    }
   ],
   "source": [
    "T = m/2 *  (  (xd^2 + l * cos(phi) * phid)^2   + (2 * a * x * xd + l * sin(phi) * phid)^2           )\n",
    "show(T)\n",
    "\n",
    "V = m * g * (a * x^2 - l * cos(phi))\n",
    "show(V)\n",
    "\n",
    "L = T - V\n",
    "show(L)"
   ]
  },
  {
   "cell_type": "code",
   "execution_count": 8,
   "metadata": {},
   "outputs": [],
   "source": [
    "px = var('px', latex_name = 'p_x')\n",
    "pphi = var('pphi', latex_name = 'p_\\phi')\n",
    "\n",
    "px_eq = px == diff(L, xd)\n",
    "pphi_eq = pphi == diff(L,phid)"
   ]
  },
  {
   "cell_type": "code",
   "execution_count": 14,
   "metadata": {},
   "outputs": [
    {
     "data": {
      "text/html": [
       "<html>\\(\\displaystyle {p_x} = 2 \\, {\\left({\\left(2 \\, a x {\\dot{x}} + l {\\dot{\\phi}} \\sin\\left(\\phi\\right)\\right)} a x + {\\left(l {\\dot{\\phi}} \\cos\\left(\\phi\\right) + {\\dot{x}}^{2}\\right)} {\\dot{x}}\\right)} m {p_\\phi} = {\\left({\\left(l {\\dot{\\phi}} \\cos\\left(\\phi\\right) + {\\dot{x}}^{2}\\right)} l \\cos\\left(\\phi\\right) + {\\left(2 \\, a x {\\dot{x}} + l {\\dot{\\phi}} \\sin\\left(\\phi\\right)\\right)} l \\sin\\left(\\phi\\right)\\right)} m\\)</html>"
      ],
      "text/latex": [
       "$\\displaystyle {p_x} = 2 \\, {\\left({\\left(2 \\, a x {\\dot{x}} + l {\\dot{\\phi}} \\sin\\left(\\phi\\right)\\right)} a x + {\\left(l {\\dot{\\phi}} \\cos\\left(\\phi\\right) + {\\dot{x}}^{2}\\right)} {\\dot{x}}\\right)} m {p_\\phi} = {\\left({\\left(l {\\dot{\\phi}} \\cos\\left(\\phi\\right) + {\\dot{x}}^{2}\\right)} l \\cos\\left(\\phi\\right) + {\\left(2 \\, a x {\\dot{x}} + l {\\dot{\\phi}} \\sin\\left(\\phi\\right)\\right)} l \\sin\\left(\\phi\\right)\\right)} m$"
      ],
      "text/plain": [
       "px == 2*((2*a*x*xd + l*phid*sin(phi))*a*x + (l*phid*cos(phi) + xd^2)*xd)*m pphi == ((l*phid*cos(phi) + xd^2)*l*cos(phi) + (2*a*x*xd + l*phid*sin(phi))*l*sin(phi))*m"
      ]
     },
     "metadata": {},
     "output_type": "display_data"
    }
   ],
   "source": [
    "show(px_eq, pphi_eq)"
   ]
  },
  {
   "cell_type": "code",
   "execution_count": 24,
   "metadata": {},
   "outputs": [
    {
     "ename": "KeyboardInterrupt",
     "evalue": "",
     "output_type": "error",
     "traceback": [
      "\u001b[0;31m---------------------------------------------------------------------------\u001b[0m",
      "\u001b[0;31mKeyboardInterrupt\u001b[0m                         Traceback (most recent call last)",
      "Input \u001b[0;32mIn [24]\u001b[0m, in \u001b[0;36m<cell line: 1>\u001b[0;34m()\u001b[0m\n\u001b[0;32m----> 1\u001b[0m show(\u001b[43msolve\u001b[49m\u001b[43m(\u001b[49m\u001b[43m[\u001b[49m\u001b[43mpx_eq\u001b[49m\u001b[43m,\u001b[49m\u001b[43m \u001b[49m\u001b[43mpphi_eq\u001b[49m\u001b[43m]\u001b[49m\u001b[43m,\u001b[49m\u001b[43mxd\u001b[49m\u001b[43m,\u001b[49m\u001b[43mphid\u001b[49m\u001b[43m,\u001b[49m\u001b[43m \u001b[49m\u001b[43malgorithm\u001b[49m\u001b[38;5;241;43m=\u001b[39;49m\u001b[38;5;124;43m'\u001b[39;49m\u001b[38;5;124;43msympy\u001b[39;49m\u001b[38;5;124;43m'\u001b[39;49m\u001b[43m)\u001b[49m)\n",
      "File \u001b[0;32m/private/var/tmp/sage-9.7-current/local/var/lib/sage/venv-python3.10.5/lib/python3.10/site-packages/sage/symbolic/relation.py:1109\u001b[0m, in \u001b[0;36msolve\u001b[0;34m(f, *args, **kwds)\u001b[0m\n\u001b[1;32m   1107\u001b[0m     sympy_vars \u001b[38;5;241m=\u001b[39m \u001b[38;5;28mtuple\u001b[39m([v\u001b[38;5;241m.\u001b[39m_sympy_() \u001b[38;5;28;01mfor\u001b[39;00m v \u001b[38;5;129;01min\u001b[39;00m x])\n\u001b[1;32m   1108\u001b[0m \u001b[38;5;28;01mif\u001b[39;00m \u001b[38;5;28mlen\u001b[39m(sympy_vars) \u001b[38;5;241m>\u001b[39m \u001b[38;5;241m1\u001b[39m \u001b[38;5;129;01mor\u001b[39;00m \u001b[38;5;129;01mnot\u001b[39;00m \u001b[38;5;28misinstance\u001b[39m(f, Expression):\n\u001b[0;32m-> 1109\u001b[0m     ret \u001b[38;5;241m=\u001b[39m \u001b[43mssolve\u001b[49m\u001b[43m(\u001b[49m\u001b[43msympy_f\u001b[49m\u001b[43m,\u001b[49m\u001b[43m \u001b[49m\u001b[43msympy_vars\u001b[49m\u001b[43m,\u001b[49m\u001b[43m \u001b[49m\u001b[38;5;28;43mdict\u001b[39;49m\u001b[38;5;241;43m=\u001b[39;49m\u001b[38;5;28;43;01mTrue\u001b[39;49;00m\u001b[43m)\u001b[49m\n\u001b[1;32m   1110\u001b[0m     \u001b[38;5;28;01mif\u001b[39;00m \u001b[38;5;28misinstance\u001b[39m(ret, \u001b[38;5;28mdict\u001b[39m):\n\u001b[1;32m   1111\u001b[0m         \u001b[38;5;28;01mif\u001b[39;00m solution_dict:\n",
      "File \u001b[0;32m/private/var/tmp/sage-9.7-current/local/var/lib/sage/venv-python3.10.5/lib/python3.10/site-packages/sympy/solvers/solvers.py:1108\u001b[0m, in \u001b[0;36msolve\u001b[0;34m(f, *symbols, **flags)\u001b[0m\n\u001b[1;32m   1106\u001b[0m     solution \u001b[38;5;241m=\u001b[39m _solve(f[\u001b[38;5;241m0\u001b[39m], \u001b[38;5;241m*\u001b[39msymbols, \u001b[38;5;241m*\u001b[39m\u001b[38;5;241m*\u001b[39mflags)\n\u001b[1;32m   1107\u001b[0m \u001b[38;5;28;01melse\u001b[39;00m:\n\u001b[0;32m-> 1108\u001b[0m     solution \u001b[38;5;241m=\u001b[39m \u001b[43m_solve_system\u001b[49m\u001b[43m(\u001b[49m\u001b[43mf\u001b[49m\u001b[43m,\u001b[49m\u001b[43m \u001b[49m\u001b[43msymbols\u001b[49m\u001b[43m,\u001b[49m\u001b[43m \u001b[49m\u001b[38;5;241;43m*\u001b[39;49m\u001b[38;5;241;43m*\u001b[39;49m\u001b[43mflags\u001b[49m\u001b[43m)\u001b[49m\n\u001b[1;32m   1110\u001b[0m \u001b[38;5;66;03m#\u001b[39;00m\n\u001b[1;32m   1111\u001b[0m \u001b[38;5;66;03m# postprocessing\u001b[39;00m\n\u001b[1;32m   1112\u001b[0m \u001b[38;5;66;03m###########################################################################\u001b[39;00m\n\u001b[1;32m   1113\u001b[0m \u001b[38;5;66;03m# Restore masked-off objects\u001b[39;00m\n\u001b[1;32m   1114\u001b[0m \u001b[38;5;28;01mif\u001b[39;00m non_inverts:\n",
      "File \u001b[0;32m/private/var/tmp/sage-9.7-current/local/var/lib/sage/venv-python3.10.5/lib/python3.10/site-packages/sympy/solvers/solvers.py:1865\u001b[0m, in \u001b[0;36m_solve_system\u001b[0;34m(exprs, symbols, **flags)\u001b[0m\n\u001b[1;32m   1863\u001b[0m \u001b[38;5;28;01melse\u001b[39;00m:\n\u001b[1;32m   1864\u001b[0m     \u001b[38;5;28;01mtry\u001b[39;00m:\n\u001b[0;32m-> 1865\u001b[0m         result \u001b[38;5;241m=\u001b[39m \u001b[43msolve_poly_system\u001b[49m\u001b[43m(\u001b[49m\u001b[43mpolys\u001b[49m\u001b[43m,\u001b[49m\u001b[43m \u001b[49m\u001b[38;5;241;43m*\u001b[39;49m\u001b[43msymbols\u001b[49m\u001b[43m)\u001b[49m\n\u001b[1;32m   1866\u001b[0m         \u001b[38;5;28;01mif\u001b[39;00m result:\n\u001b[1;32m   1867\u001b[0m             solved_syms \u001b[38;5;241m=\u001b[39m symbols\n",
      "File \u001b[0;32m/private/var/tmp/sage-9.7-current/local/var/lib/sage/venv-python3.10.5/lib/python3.10/site-packages/sympy/solvers/polysys.py:64\u001b[0m, in \u001b[0;36msolve_poly_system\u001b[0;34m(seq, *gens, **args)\u001b[0m\n\u001b[1;32m     61\u001b[0m         \u001b[38;5;28;01mexcept\u001b[39;00m SolveFailed:\n\u001b[1;32m     62\u001b[0m             \u001b[38;5;28;01mpass\u001b[39;00m\n\u001b[0;32m---> 64\u001b[0m \u001b[38;5;28;01mreturn\u001b[39;00m \u001b[43msolve_generic\u001b[49m\u001b[43m(\u001b[49m\u001b[43mpolys\u001b[49m\u001b[43m,\u001b[49m\u001b[43m \u001b[49m\u001b[43mopt\u001b[49m\u001b[43m)\u001b[49m\n",
      "File \u001b[0;32m/private/var/tmp/sage-9.7-current/local/var/lib/sage/venv-python3.10.5/lib/python3.10/site-packages/sympy/solvers/polysys.py:292\u001b[0m, in \u001b[0;36msolve_generic\u001b[0;34m(polys, opt)\u001b[0m\n\u001b[1;32m    289\u001b[0m     \u001b[38;5;28;01mreturn\u001b[39;00m solutions\n\u001b[1;32m    291\u001b[0m \u001b[38;5;28;01mtry\u001b[39;00m:\n\u001b[0;32m--> 292\u001b[0m     result \u001b[38;5;241m=\u001b[39m \u001b[43m_solve_reduced_system\u001b[49m\u001b[43m(\u001b[49m\u001b[43mpolys\u001b[49m\u001b[43m,\u001b[49m\u001b[43m \u001b[49m\u001b[43mopt\u001b[49m\u001b[38;5;241;43m.\u001b[39;49m\u001b[43mgens\u001b[49m\u001b[43m,\u001b[49m\u001b[43m \u001b[49m\u001b[43mentry\u001b[49m\u001b[38;5;241;43m=\u001b[39;49m\u001b[38;5;28;43;01mTrue\u001b[39;49;00m\u001b[43m)\u001b[49m\n\u001b[1;32m    293\u001b[0m \u001b[38;5;28;01mexcept\u001b[39;00m CoercionFailed:\n\u001b[1;32m    294\u001b[0m     \u001b[38;5;28;01mraise\u001b[39;00m \u001b[38;5;167;01mNotImplementedError\u001b[39;00m\n",
      "File \u001b[0;32m/private/var/tmp/sage-9.7-current/local/var/lib/sage/venv-python3.10.5/lib/python3.10/site-packages/sympy/solvers/polysys.py:234\u001b[0m, in \u001b[0;36msolve_generic.<locals>._solve_reduced_system\u001b[0;34m(system, gens, entry)\u001b[0m\n\u001b[1;32m    231\u001b[0m     zeros \u001b[38;5;241m=\u001b[39m \u001b[38;5;28mlist\u001b[39m(roots(system[\u001b[38;5;241m0\u001b[39m], gens[\u001b[38;5;241m-\u001b[39m\u001b[38;5;241m1\u001b[39m])\u001b[38;5;241m.\u001b[39mkeys())\n\u001b[1;32m    232\u001b[0m     \u001b[38;5;28;01mreturn\u001b[39;00m [(zero,) \u001b[38;5;28;01mfor\u001b[39;00m zero \u001b[38;5;129;01min\u001b[39;00m zeros]\n\u001b[0;32m--> 234\u001b[0m basis \u001b[38;5;241m=\u001b[39m \u001b[43mgroebner\u001b[49m\u001b[43m(\u001b[49m\u001b[43msystem\u001b[49m\u001b[43m,\u001b[49m\u001b[43m \u001b[49m\u001b[43mgens\u001b[49m\u001b[43m,\u001b[49m\u001b[43m \u001b[49m\u001b[43mpolys\u001b[49m\u001b[38;5;241;43m=\u001b[39;49m\u001b[38;5;28;43;01mTrue\u001b[39;49;00m\u001b[43m)\u001b[49m\n\u001b[1;32m    236\u001b[0m \u001b[38;5;28;01mif\u001b[39;00m \u001b[38;5;28mlen\u001b[39m(basis) \u001b[38;5;241m==\u001b[39m \u001b[38;5;241m1\u001b[39m \u001b[38;5;129;01mand\u001b[39;00m basis[\u001b[38;5;241m0\u001b[39m]\u001b[38;5;241m.\u001b[39mis_ground:\n\u001b[1;32m    237\u001b[0m     \u001b[38;5;28;01mif\u001b[39;00m \u001b[38;5;129;01mnot\u001b[39;00m entry:\n",
      "File \u001b[0;32m/private/var/tmp/sage-9.7-current/local/var/lib/sage/venv-python3.10.5/lib/python3.10/site-packages/sympy/polys/polytools.py:6926\u001b[0m, in \u001b[0;36mgroebner\u001b[0;34m(F, *gens, **args)\u001b[0m\n\u001b[1;32m   6875\u001b[0m \u001b[38;5;129m@public\u001b[39m\n\u001b[1;32m   6876\u001b[0m \u001b[38;5;28;01mdef\u001b[39;00m \u001b[38;5;21mgroebner\u001b[39m(F, \u001b[38;5;241m*\u001b[39mgens, \u001b[38;5;241m*\u001b[39m\u001b[38;5;241m*\u001b[39margs):\n\u001b[1;32m   6877\u001b[0m     \u001b[38;5;124;03m\"\"\"\u001b[39;00m\n\u001b[1;32m   6878\u001b[0m \u001b[38;5;124;03m    Computes the reduced Groebner basis for a set of polynomials.\u001b[39;00m\n\u001b[1;32m   6879\u001b[0m \n\u001b[0;32m   (...)\u001b[0m\n\u001b[1;32m   6924\u001b[0m \n\u001b[1;32m   6925\u001b[0m \u001b[38;5;124;03m    \"\"\"\u001b[39;00m\n\u001b[0;32m-> 6926\u001b[0m     \u001b[38;5;28;01mreturn\u001b[39;00m \u001b[43mGroebnerBasis\u001b[49m\u001b[43m(\u001b[49m\u001b[43mF\u001b[49m\u001b[43m,\u001b[49m\u001b[43m \u001b[49m\u001b[38;5;241;43m*\u001b[39;49m\u001b[43mgens\u001b[49m\u001b[43m,\u001b[49m\u001b[43m \u001b[49m\u001b[38;5;241;43m*\u001b[39;49m\u001b[38;5;241;43m*\u001b[39;49m\u001b[43margs\u001b[49m\u001b[43m)\u001b[49m\n",
      "File \u001b[0;32m/private/var/tmp/sage-9.7-current/local/var/lib/sage/venv-python3.10.5/lib/python3.10/site-packages/sympy/polys/polytools.py:6965\u001b[0m, in \u001b[0;36mGroebnerBasis.__new__\u001b[0;34m(cls, F, *gens, **args)\u001b[0m\n\u001b[1;32m   6961\u001b[0m ring \u001b[38;5;241m=\u001b[39m PolyRing(opt\u001b[38;5;241m.\u001b[39mgens, opt\u001b[38;5;241m.\u001b[39mdomain, opt\u001b[38;5;241m.\u001b[39morder)\n\u001b[1;32m   6963\u001b[0m polys \u001b[38;5;241m=\u001b[39m [ring\u001b[38;5;241m.\u001b[39mfrom_dict(poly\u001b[38;5;241m.\u001b[39mrep\u001b[38;5;241m.\u001b[39mto_dict()) \u001b[38;5;28;01mfor\u001b[39;00m poly \u001b[38;5;129;01min\u001b[39;00m polys \u001b[38;5;28;01mif\u001b[39;00m poly]\n\u001b[0;32m-> 6965\u001b[0m G \u001b[38;5;241m=\u001b[39m \u001b[43m_groebner\u001b[49m\u001b[43m(\u001b[49m\u001b[43mpolys\u001b[49m\u001b[43m,\u001b[49m\u001b[43m \u001b[49m\u001b[43mring\u001b[49m\u001b[43m,\u001b[49m\u001b[43m \u001b[49m\u001b[43mmethod\u001b[49m\u001b[38;5;241;43m=\u001b[39;49m\u001b[43mopt\u001b[49m\u001b[38;5;241;43m.\u001b[39;49m\u001b[43mmethod\u001b[49m\u001b[43m)\u001b[49m\n\u001b[1;32m   6966\u001b[0m G \u001b[38;5;241m=\u001b[39m [Poly\u001b[38;5;241m.\u001b[39m_from_dict(g, opt) \u001b[38;5;28;01mfor\u001b[39;00m g \u001b[38;5;129;01min\u001b[39;00m G]\n\u001b[1;32m   6968\u001b[0m \u001b[38;5;28;01mreturn\u001b[39;00m \u001b[38;5;28mcls\u001b[39m\u001b[38;5;241m.\u001b[39m_new(G, opt)\n",
      "File \u001b[0;32m/private/var/tmp/sage-9.7-current/local/var/lib/sage/venv-python3.10.5/lib/python3.10/site-packages/sympy/polys/groebnertools.py:43\u001b[0m, in \u001b[0;36mgroebner\u001b[0;34m(seq, ring, method)\u001b[0m\n\u001b[1;32m     40\u001b[0m     \u001b[38;5;28;01melse\u001b[39;00m:\n\u001b[1;32m     41\u001b[0m         seq \u001b[38;5;241m=\u001b[39m [ s\u001b[38;5;241m.\u001b[39mset_ring(ring) \u001b[38;5;28;01mfor\u001b[39;00m s \u001b[38;5;129;01min\u001b[39;00m seq ]\n\u001b[0;32m---> 43\u001b[0m G \u001b[38;5;241m=\u001b[39m \u001b[43m_groebner\u001b[49m\u001b[43m(\u001b[49m\u001b[43mseq\u001b[49m\u001b[43m,\u001b[49m\u001b[43m \u001b[49m\u001b[43mring\u001b[49m\u001b[43m)\u001b[49m\n\u001b[1;32m     45\u001b[0m \u001b[38;5;28;01mif\u001b[39;00m orig \u001b[38;5;129;01mis\u001b[39;00m \u001b[38;5;129;01mnot\u001b[39;00m \u001b[38;5;28;01mNone\u001b[39;00m:\n\u001b[1;32m     46\u001b[0m     G \u001b[38;5;241m=\u001b[39m [ g\u001b[38;5;241m.\u001b[39mclear_denoms()[\u001b[38;5;241m1\u001b[39m]\u001b[38;5;241m.\u001b[39mset_ring(orig) \u001b[38;5;28;01mfor\u001b[39;00m g \u001b[38;5;129;01min\u001b[39;00m G ]\n",
      "File \u001b[0;32m/private/var/tmp/sage-9.7-current/local/var/lib/sage/venv-python3.10.5/lib/python3.10/site-packages/sympy/polys/groebnertools.py:238\u001b[0m, in \u001b[0;36m_buchberger\u001b[0;34m(f, ring)\u001b[0m\n\u001b[1;32m    236\u001b[0m \u001b[38;5;66;03m# ordering divisors is on average more efficient [Cox] page 111\u001b[39;00m\n\u001b[1;32m    237\u001b[0m G1 \u001b[38;5;241m=\u001b[39m \u001b[38;5;28msorted\u001b[39m(G, key\u001b[38;5;241m=\u001b[39m\u001b[38;5;28;01mlambda\u001b[39;00m g: order(f[g]\u001b[38;5;241m.\u001b[39mLM))\n\u001b[0;32m--> 238\u001b[0m ht \u001b[38;5;241m=\u001b[39m \u001b[43mnormal\u001b[49m\u001b[43m(\u001b[49m\u001b[43mh\u001b[49m\u001b[43m,\u001b[49m\u001b[43m \u001b[49m\u001b[43mG1\u001b[49m\u001b[43m)\u001b[49m\n\u001b[1;32m    240\u001b[0m \u001b[38;5;28;01mif\u001b[39;00m ht:\n\u001b[1;32m    241\u001b[0m     G, CP \u001b[38;5;241m=\u001b[39m update(G, CP, ht[\u001b[38;5;241m1\u001b[39m])\n",
      "File \u001b[0;32m/private/var/tmp/sage-9.7-current/local/var/lib/sage/venv-python3.10.5/lib/python3.10/site-packages/sympy/polys/groebnertools.py:104\u001b[0m, in \u001b[0;36m_buchberger.<locals>.normal\u001b[0;34m(g, J)\u001b[0m\n\u001b[1;32m    103\u001b[0m \u001b[38;5;28;01mdef\u001b[39;00m \u001b[38;5;21mnormal\u001b[39m(g, J):\n\u001b[0;32m--> 104\u001b[0m     h \u001b[38;5;241m=\u001b[39m \u001b[43mg\u001b[49m\u001b[38;5;241;43m.\u001b[39;49m\u001b[43mrem\u001b[49m\u001b[43m(\u001b[49m\u001b[43m[\u001b[49m\u001b[43m \u001b[49m\u001b[43mf\u001b[49m\u001b[43m[\u001b[49m\u001b[43mj\u001b[49m\u001b[43m]\u001b[49m\u001b[43m \u001b[49m\u001b[38;5;28;43;01mfor\u001b[39;49;00m\u001b[43m \u001b[49m\u001b[43mj\u001b[49m\u001b[43m \u001b[49m\u001b[38;5;129;43;01min\u001b[39;49;00m\u001b[43m \u001b[49m\u001b[43mJ\u001b[49m\u001b[43m \u001b[49m\u001b[43m]\u001b[49m\u001b[43m)\u001b[49m\n\u001b[1;32m    106\u001b[0m     \u001b[38;5;28;01mif\u001b[39;00m \u001b[38;5;129;01mnot\u001b[39;00m h:\n\u001b[1;32m    107\u001b[0m         \u001b[38;5;28;01mreturn\u001b[39;00m \u001b[38;5;28;01mNone\u001b[39;00m\n",
      "File \u001b[0;32m/private/var/tmp/sage-9.7-current/local/var/lib/sage/venv-python3.10.5/lib/python3.10/site-packages/sympy/polys/rings.py:1493\u001b[0m, in \u001b[0;36mPolyElement.rem\u001b[0;34m(self, G)\u001b[0m\n\u001b[1;32m   1491\u001b[0m \u001b[38;5;28;01mfor\u001b[39;00m mg, cg \u001b[38;5;129;01min\u001b[39;00m g\u001b[38;5;241m.\u001b[39miterterms():\n\u001b[1;32m   1492\u001b[0m     m1 \u001b[38;5;241m=\u001b[39m monomial_mul(mg, m)\n\u001b[0;32m-> 1493\u001b[0m     c1 \u001b[38;5;241m=\u001b[39m \u001b[43mget\u001b[49m\u001b[43m(\u001b[49m\u001b[43mm1\u001b[49m\u001b[43m,\u001b[49m\u001b[43m \u001b[49m\u001b[43mzero\u001b[49m\u001b[43m)\u001b[49m\u001b[43m \u001b[49m\u001b[38;5;241;43m-\u001b[39;49m\u001b[43m \u001b[49m\u001b[43mc\u001b[49m\u001b[38;5;241;43m*\u001b[39;49m\u001b[43mcg\u001b[49m\n\u001b[1;32m   1494\u001b[0m     \u001b[38;5;28;01mif\u001b[39;00m \u001b[38;5;129;01mnot\u001b[39;00m c1:\n\u001b[1;32m   1495\u001b[0m         \u001b[38;5;28;01mdel\u001b[39;00m f[m1]\n",
      "File \u001b[0;32m/private/var/tmp/sage-9.7-current/local/var/lib/sage/venv-python3.10.5/lib/python3.10/site-packages/sympy/polys/domains/expressiondomain.py:89\u001b[0m, in \u001b[0;36mExpressionDomain.Expression.__sub__\u001b[0;34m(f, g)\u001b[0m\n\u001b[1;32m     87\u001b[0m     \u001b[38;5;28;01mreturn\u001b[39;00m \u001b[38;5;241m-\u001b[39mg\n\u001b[1;32m     88\u001b[0m \u001b[38;5;28;01melse\u001b[39;00m:\n\u001b[0;32m---> 89\u001b[0m     \u001b[38;5;28;01mreturn\u001b[39;00m \u001b[43mf\u001b[49m\u001b[38;5;241;43m.\u001b[39;49m\u001b[43msimplify\u001b[49m\u001b[43m(\u001b[49m\u001b[43mf\u001b[49m\u001b[38;5;241;43m.\u001b[39;49m\u001b[43mex\u001b[49m\u001b[43m \u001b[49m\u001b[38;5;241;43m-\u001b[39;49m\u001b[43m \u001b[49m\u001b[43mg\u001b[49m\u001b[38;5;241;43m.\u001b[39;49m\u001b[43mex\u001b[49m\u001b[43m)\u001b[49m\n",
      "File \u001b[0;32m/private/var/tmp/sage-9.7-current/local/var/lib/sage/venv-python3.10.5/lib/python3.10/site-packages/sympy/polys/domains/expressiondomain.py:50\u001b[0m, in \u001b[0;36mExpressionDomain.Expression.simplify\u001b[0;34m(f, ex)\u001b[0m\n\u001b[1;32m     49\u001b[0m \u001b[38;5;28;01mdef\u001b[39;00m \u001b[38;5;21msimplify\u001b[39m(f, ex):\n\u001b[0;32m---> 50\u001b[0m     \u001b[38;5;28;01mreturn\u001b[39;00m f\u001b[38;5;241m.\u001b[39m\u001b[38;5;18m__class__\u001b[39m(\u001b[43mex\u001b[49m\u001b[38;5;241;43m.\u001b[39;49m\u001b[43mcancel\u001b[49m\u001b[43m(\u001b[49m\u001b[43m)\u001b[49m\u001b[38;5;241m.\u001b[39mexpand(\u001b[38;5;241m*\u001b[39m\u001b[38;5;241m*\u001b[39meflags))\n",
      "File \u001b[0;32m/private/var/tmp/sage-9.7-current/local/var/lib/sage/venv-python3.10.5/lib/python3.10/site-packages/sympy/core/expr.py:3733\u001b[0m, in \u001b[0;36mExpr.cancel\u001b[0;34m(self, *gens, **args)\u001b[0m\n\u001b[1;32m   3731\u001b[0m \u001b[38;5;124;03m\"\"\"See the cancel function in sympy.polys\"\"\"\u001b[39;00m\n\u001b[1;32m   3732\u001b[0m \u001b[38;5;28;01mfrom\u001b[39;00m \u001b[38;5;21;01msympy\u001b[39;00m\u001b[38;5;21;01m.\u001b[39;00m\u001b[38;5;21;01mpolys\u001b[39;00m\u001b[38;5;21;01m.\u001b[39;00m\u001b[38;5;21;01mpolytools\u001b[39;00m \u001b[38;5;28;01mimport\u001b[39;00m cancel\n\u001b[0;32m-> 3733\u001b[0m \u001b[38;5;28;01mreturn\u001b[39;00m \u001b[43mcancel\u001b[49m\u001b[43m(\u001b[49m\u001b[38;5;28;43mself\u001b[39;49m\u001b[43m,\u001b[49m\u001b[43m \u001b[49m\u001b[38;5;241;43m*\u001b[39;49m\u001b[43mgens\u001b[49m\u001b[43m,\u001b[49m\u001b[43m \u001b[49m\u001b[38;5;241;43m*\u001b[39;49m\u001b[38;5;241;43m*\u001b[39;49m\u001b[43margs\u001b[49m\u001b[43m)\u001b[49m\n",
      "File \u001b[0;32m/private/var/tmp/sage-9.7-current/local/var/lib/sage/venv-python3.10.5/lib/python3.10/site-packages/sympy/polys/polytools.py:6801\u001b[0m, in \u001b[0;36mcancel\u001b[0;34m(f, _signsimp, *gens, **args)\u001b[0m\n\u001b[1;32m   6798\u001b[0m                 \u001b[38;5;28;01mpass\u001b[39;00m\n\u001b[1;32m   6799\u001b[0m         \u001b[38;5;28;01mreturn\u001b[39;00m f\u001b[38;5;241m.\u001b[39mxreplace(\u001b[38;5;28mdict\u001b[39m(reps))\n\u001b[0;32m-> 6801\u001b[0m c, (P, Q) \u001b[38;5;241m=\u001b[39m \u001b[38;5;241m1\u001b[39m, \u001b[43mF\u001b[49m\u001b[38;5;241;43m.\u001b[39;49m\u001b[43mcancel\u001b[49m\u001b[43m(\u001b[49m\u001b[43mG\u001b[49m\u001b[43m)\u001b[49m\n\u001b[1;32m   6802\u001b[0m \u001b[38;5;28;01mif\u001b[39;00m opt\u001b[38;5;241m.\u001b[39mget(\u001b[38;5;124m'\u001b[39m\u001b[38;5;124mpolys\u001b[39m\u001b[38;5;124m'\u001b[39m, \u001b[38;5;28;01mFalse\u001b[39;00m) \u001b[38;5;129;01mand\u001b[39;00m \u001b[38;5;124m'\u001b[39m\u001b[38;5;124mgens\u001b[39m\u001b[38;5;124m'\u001b[39m \u001b[38;5;129;01mnot\u001b[39;00m \u001b[38;5;129;01min\u001b[39;00m opt:\n\u001b[1;32m   6803\u001b[0m     opt[\u001b[38;5;124m'\u001b[39m\u001b[38;5;124mgens\u001b[39m\u001b[38;5;124m'\u001b[39m] \u001b[38;5;241m=\u001b[39m R\u001b[38;5;241m.\u001b[39msymbols\n",
      "File \u001b[0;32m/private/var/tmp/sage-9.7-current/local/var/lib/sage/venv-python3.10.5/lib/python3.10/site-packages/sympy/polys/rings.py:2223\u001b[0m, in \u001b[0;36mPolyElement.cancel\u001b[0;34m(self, g)\u001b[0m\n\u001b[1;32m   2220\u001b[0m domain \u001b[38;5;241m=\u001b[39m ring\u001b[38;5;241m.\u001b[39mdomain\n\u001b[1;32m   2222\u001b[0m \u001b[38;5;28;01mif\u001b[39;00m \u001b[38;5;129;01mnot\u001b[39;00m (domain\u001b[38;5;241m.\u001b[39mis_Field \u001b[38;5;129;01mand\u001b[39;00m domain\u001b[38;5;241m.\u001b[39mhas_assoc_Ring):\n\u001b[0;32m-> 2223\u001b[0m     _, p, q \u001b[38;5;241m=\u001b[39m \u001b[43mf\u001b[49m\u001b[38;5;241;43m.\u001b[39;49m\u001b[43mcofactors\u001b[49m\u001b[43m(\u001b[49m\u001b[43mg\u001b[49m\u001b[43m)\u001b[49m\n\u001b[1;32m   2224\u001b[0m \u001b[38;5;28;01melse\u001b[39;00m:\n\u001b[1;32m   2225\u001b[0m     new_ring \u001b[38;5;241m=\u001b[39m ring\u001b[38;5;241m.\u001b[39mclone(domain\u001b[38;5;241m=\u001b[39mdomain\u001b[38;5;241m.\u001b[39mget_ring())\n",
      "File \u001b[0;32m/private/var/tmp/sage-9.7-current/local/var/lib/sage/venv-python3.10.5/lib/python3.10/site-packages/sympy/polys/rings.py:2139\u001b[0m, in \u001b[0;36mPolyElement.cofactors\u001b[0;34m(f, g)\u001b[0m\n\u001b[1;32m   2136\u001b[0m     \u001b[38;5;28;01mreturn\u001b[39;00m h, cff, cfg\n\u001b[1;32m   2138\u001b[0m J, (f, g) \u001b[38;5;241m=\u001b[39m f\u001b[38;5;241m.\u001b[39mdeflate(g)\n\u001b[0;32m-> 2139\u001b[0m h, cff, cfg \u001b[38;5;241m=\u001b[39m \u001b[43mf\u001b[49m\u001b[38;5;241;43m.\u001b[39;49m\u001b[43m_gcd\u001b[49m\u001b[43m(\u001b[49m\u001b[43mg\u001b[49m\u001b[43m)\u001b[49m\n\u001b[1;32m   2141\u001b[0m \u001b[38;5;28;01mreturn\u001b[39;00m (h\u001b[38;5;241m.\u001b[39minflate(J), cff\u001b[38;5;241m.\u001b[39minflate(J), cfg\u001b[38;5;241m.\u001b[39minflate(J))\n",
      "File \u001b[0;32m/private/var/tmp/sage-9.7-current/local/var/lib/sage/venv-python3.10.5/lib/python3.10/site-packages/sympy/polys/rings.py:2172\u001b[0m, in \u001b[0;36mPolyElement._gcd\u001b[0;34m(f, g)\u001b[0m\n\u001b[1;32m   2170\u001b[0m     \u001b[38;5;28;01mreturn\u001b[39;00m f\u001b[38;5;241m.\u001b[39m_gcd_QQ(g)\n\u001b[1;32m   2171\u001b[0m \u001b[38;5;28;01melif\u001b[39;00m ring\u001b[38;5;241m.\u001b[39mdomain\u001b[38;5;241m.\u001b[39mis_ZZ:\n\u001b[0;32m-> 2172\u001b[0m     \u001b[38;5;28;01mreturn\u001b[39;00m \u001b[43mf\u001b[49m\u001b[38;5;241;43m.\u001b[39;49m\u001b[43m_gcd_ZZ\u001b[49m\u001b[43m(\u001b[49m\u001b[43mg\u001b[49m\u001b[43m)\u001b[49m\n\u001b[1;32m   2173\u001b[0m \u001b[38;5;28;01melse\u001b[39;00m: \u001b[38;5;66;03m# TODO: don't use dense representation (port PRS algorithms)\u001b[39;00m\n\u001b[1;32m   2174\u001b[0m     \u001b[38;5;28;01mreturn\u001b[39;00m ring\u001b[38;5;241m.\u001b[39mdmp_inner_gcd(f, g)\n",
      "File \u001b[0;32m/private/var/tmp/sage-9.7-current/local/var/lib/sage/venv-python3.10.5/lib/python3.10/site-packages/sympy/polys/rings.py:2177\u001b[0m, in \u001b[0;36mPolyElement._gcd_ZZ\u001b[0;34m(f, g)\u001b[0m\n\u001b[1;32m   2176\u001b[0m \u001b[38;5;28;01mdef\u001b[39;00m \u001b[38;5;21m_gcd_ZZ\u001b[39m(f, g):\n\u001b[0;32m-> 2177\u001b[0m     \u001b[38;5;28;01mreturn\u001b[39;00m \u001b[43mheugcd\u001b[49m\u001b[43m(\u001b[49m\u001b[43mf\u001b[49m\u001b[43m,\u001b[49m\u001b[43m \u001b[49m\u001b[43mg\u001b[49m\u001b[43m)\u001b[49m\n",
      "File \u001b[0;32m/private/var/tmp/sage-9.7-current/local/var/lib/sage/venv-python3.10.5/lib/python3.10/site-packages/sympy/polys/heuristicgcd.py:80\u001b[0m, in \u001b[0;36mheugcd\u001b[0;34m(f, g)\u001b[0m\n\u001b[1;32m     78\u001b[0m     h, cff, cfg \u001b[38;5;241m=\u001b[39m domain\u001b[38;5;241m.\u001b[39mcofactors(ff, gg)\n\u001b[1;32m     79\u001b[0m \u001b[38;5;28;01melse\u001b[39;00m:\n\u001b[0;32m---> 80\u001b[0m     h, cff, cfg \u001b[38;5;241m=\u001b[39m \u001b[43mheugcd\u001b[49m\u001b[43m(\u001b[49m\u001b[43mff\u001b[49m\u001b[43m,\u001b[49m\u001b[43m \u001b[49m\u001b[43mgg\u001b[49m\u001b[43m)\u001b[49m\n\u001b[1;32m     82\u001b[0m h \u001b[38;5;241m=\u001b[39m _gcd_interpolate(h, x, ring)\n\u001b[1;32m     83\u001b[0m h \u001b[38;5;241m=\u001b[39m h\u001b[38;5;241m.\u001b[39mprimitive()[\u001b[38;5;241m1\u001b[39m]\n",
      "File \u001b[0;32m/private/var/tmp/sage-9.7-current/local/var/lib/sage/venv-python3.10.5/lib/python3.10/site-packages/sympy/polys/heuristicgcd.py:80\u001b[0m, in \u001b[0;36mheugcd\u001b[0;34m(f, g)\u001b[0m\n\u001b[1;32m     78\u001b[0m     h, cff, cfg \u001b[38;5;241m=\u001b[39m domain\u001b[38;5;241m.\u001b[39mcofactors(ff, gg)\n\u001b[1;32m     79\u001b[0m \u001b[38;5;28;01melse\u001b[39;00m:\n\u001b[0;32m---> 80\u001b[0m     h, cff, cfg \u001b[38;5;241m=\u001b[39m \u001b[43mheugcd\u001b[49m\u001b[43m(\u001b[49m\u001b[43mff\u001b[49m\u001b[43m,\u001b[49m\u001b[43m \u001b[49m\u001b[43mgg\u001b[49m\u001b[43m)\u001b[49m\n\u001b[1;32m     82\u001b[0m h \u001b[38;5;241m=\u001b[39m _gcd_interpolate(h, x, ring)\n\u001b[1;32m     83\u001b[0m h \u001b[38;5;241m=\u001b[39m h\u001b[38;5;241m.\u001b[39mprimitive()[\u001b[38;5;241m1\u001b[39m]\n",
      "    \u001b[0;31m[... skipping similar frames: heugcd at line 80 (2 times)]\u001b[0m\n",
      "File \u001b[0;32m/private/var/tmp/sage-9.7-current/local/var/lib/sage/venv-python3.10.5/lib/python3.10/site-packages/sympy/polys/heuristicgcd.py:80\u001b[0m, in \u001b[0;36mheugcd\u001b[0;34m(f, g)\u001b[0m\n\u001b[1;32m     78\u001b[0m     h, cff, cfg \u001b[38;5;241m=\u001b[39m domain\u001b[38;5;241m.\u001b[39mcofactors(ff, gg)\n\u001b[1;32m     79\u001b[0m \u001b[38;5;28;01melse\u001b[39;00m:\n\u001b[0;32m---> 80\u001b[0m     h, cff, cfg \u001b[38;5;241m=\u001b[39m \u001b[43mheugcd\u001b[49m\u001b[43m(\u001b[49m\u001b[43mff\u001b[49m\u001b[43m,\u001b[49m\u001b[43m \u001b[49m\u001b[43mgg\u001b[49m\u001b[43m)\u001b[49m\n\u001b[1;32m     82\u001b[0m h \u001b[38;5;241m=\u001b[39m _gcd_interpolate(h, x, ring)\n\u001b[1;32m     83\u001b[0m h \u001b[38;5;241m=\u001b[39m h\u001b[38;5;241m.\u001b[39mprimitive()[\u001b[38;5;241m1\u001b[39m]\n",
      "File \u001b[0;32m/private/var/tmp/sage-9.7-current/local/var/lib/sage/venv-python3.10.5/lib/python3.10/site-packages/sympy/polys/heuristicgcd.py:61\u001b[0m, in \u001b[0;36mheugcd\u001b[0;34m(f, g)\u001b[0m\n\u001b[1;32m     58\u001b[0m x0 \u001b[38;5;241m=\u001b[39m ring\u001b[38;5;241m.\u001b[39mgens[\u001b[38;5;241m0\u001b[39m]\n\u001b[1;32m     59\u001b[0m domain \u001b[38;5;241m=\u001b[39m ring\u001b[38;5;241m.\u001b[39mdomain\n\u001b[0;32m---> 61\u001b[0m gcd, f, g \u001b[38;5;241m=\u001b[39m \u001b[43mf\u001b[49m\u001b[38;5;241;43m.\u001b[39;49m\u001b[43mextract_ground\u001b[49m\u001b[43m(\u001b[49m\u001b[43mg\u001b[49m\u001b[43m)\u001b[49m\n\u001b[1;32m     63\u001b[0m f_norm \u001b[38;5;241m=\u001b[39m f\u001b[38;5;241m.\u001b[39mmax_norm()\n\u001b[1;32m     64\u001b[0m g_norm \u001b[38;5;241m=\u001b[39m g\u001b[38;5;241m.\u001b[39mmax_norm()\n",
      "File \u001b[0;32m/private/var/tmp/sage-9.7-current/local/var/lib/sage/venv-python3.10.5/lib/python3.10/site-packages/sympy/polys/rings.py:2037\u001b[0m, in \u001b[0;36mPolyElement.extract_ground\u001b[0;34m(self, g)\u001b[0m\n\u001b[1;32m   2035\u001b[0m \u001b[38;5;28;01mdef\u001b[39;00m \u001b[38;5;21mextract_ground\u001b[39m(\u001b[38;5;28mself\u001b[39m, g):\n\u001b[1;32m   2036\u001b[0m     f \u001b[38;5;241m=\u001b[39m \u001b[38;5;28mself\u001b[39m\n\u001b[0;32m-> 2037\u001b[0m     fc \u001b[38;5;241m=\u001b[39m \u001b[43mf\u001b[49m\u001b[38;5;241;43m.\u001b[39;49m\u001b[43mcontent\u001b[49m\u001b[43m(\u001b[49m\u001b[43m)\u001b[49m\n\u001b[1;32m   2038\u001b[0m     gc \u001b[38;5;241m=\u001b[39m g\u001b[38;5;241m.\u001b[39mcontent()\n\u001b[1;32m   2040\u001b[0m     gcd \u001b[38;5;241m=\u001b[39m f\u001b[38;5;241m.\u001b[39mring\u001b[38;5;241m.\u001b[39mdomain\u001b[38;5;241m.\u001b[39mgcd(fc, gc)\n",
      "File \u001b[0;32m/private/var/tmp/sage-9.7-current/local/var/lib/sage/venv-python3.10.5/lib/python3.10/site-packages/sympy/polys/rings.py:1944\u001b[0m, in \u001b[0;36mPolyElement.content\u001b[0;34m(f)\u001b[0m\n\u001b[1;32m   1941\u001b[0m gcd \u001b[38;5;241m=\u001b[39m domain\u001b[38;5;241m.\u001b[39mgcd\n\u001b[1;32m   1943\u001b[0m \u001b[38;5;28;01mfor\u001b[39;00m coeff \u001b[38;5;129;01min\u001b[39;00m f\u001b[38;5;241m.\u001b[39mitercoeffs():\n\u001b[0;32m-> 1944\u001b[0m     cont \u001b[38;5;241m=\u001b[39m \u001b[43mgcd\u001b[49m\u001b[43m(\u001b[49m\u001b[43mcont\u001b[49m\u001b[43m,\u001b[49m\u001b[43m \u001b[49m\u001b[43mcoeff\u001b[49m\u001b[43m)\u001b[49m\n\u001b[1;32m   1946\u001b[0m \u001b[38;5;28;01mreturn\u001b[39;00m cont\n",
      "File \u001b[0;32m/private/var/tmp/sage-9.7-current/local/var/lib/sage/venv-python3.10.5/lib/python3.10/site-packages/sympy/polys/domains/integerring.py:212\u001b[0m, in \u001b[0;36mIntegerRing.gcd\u001b[0;34m(self, a, b)\u001b[0m\n\u001b[1;32m    210\u001b[0m \u001b[38;5;28;01mdef\u001b[39;00m \u001b[38;5;21mgcd\u001b[39m(\u001b[38;5;28mself\u001b[39m, a, b):\n\u001b[1;32m    211\u001b[0m     \u001b[38;5;124;03m\"\"\"Compute GCD of ``a`` and ``b``. \"\"\"\u001b[39;00m\n\u001b[0;32m--> 212\u001b[0m     \u001b[38;5;28;01mreturn\u001b[39;00m \u001b[43mgcd\u001b[49m\u001b[43m(\u001b[49m\u001b[43ma\u001b[49m\u001b[43m,\u001b[49m\u001b[43m \u001b[49m\u001b[43mb\u001b[49m\u001b[43m)\u001b[49m\n",
      "File \u001b[0;32msrc/cysignals/signals.pyx:310\u001b[0m, in \u001b[0;36mcysignals.signals.python_check_interrupt\u001b[0;34m()\u001b[0m\n",
      "\u001b[0;31mKeyboardInterrupt\u001b[0m: "
     ]
    }
   ],
   "source": [
    "show(solve([px_eq, pphi_eq],xd,phid, algorithm='sympy'))"
   ]
  },
  {
   "cell_type": "code",
   "execution_count": 5,
   "metadata": {},
   "outputs": [],
   "source": []
  },
  {
   "cell_type": "code",
   "execution_count": 6,
   "metadata": {},
   "outputs": [
    {
     "data": {
      "text/html": [
       "<html>\\(\\displaystyle {p_x} = 2 \\, {\\left({\\left(2 \\, a x {\\dot{x}} + l {\\dot{\\phi}} \\sin\\left(\\phi\\right)\\right)} a x + {\\left(l {\\dot{\\phi}} \\cos\\left(\\phi\\right) + {\\dot{x}}^{2}\\right)} {\\dot{x}}\\right)} m\\)</html>"
      ],
      "text/latex": [
       "$\\displaystyle {p_x} = 2 \\, {\\left({\\left(2 \\, a x {\\dot{x}} + l {\\dot{\\phi}} \\sin\\left(\\phi\\right)\\right)} a x + {\\left(l {\\dot{\\phi}} \\cos\\left(\\phi\\right) + {\\dot{x}}^{2}\\right)} {\\dot{x}}\\right)} m$"
      ],
      "text/plain": [
       "px == 2*((2*a*x*xd + l*phid*sin(phi))*a*x + (l*phid*cos(phi) + xd^2)*xd)*m"
      ]
     },
     "metadata": {},
     "output_type": "display_data"
    },
    {
     "data": {
      "text/html": [
       "<html>\\(\\displaystyle {p_\\phi} = {\\left({\\left(l {\\dot{\\phi}} \\cos\\left(\\phi\\right) + {\\dot{x}}^{2}\\right)} l \\cos\\left(\\phi\\right) + {\\left(2 \\, a x {\\dot{x}} + l {\\dot{\\phi}} \\sin\\left(\\phi\\right)\\right)} l \\sin\\left(\\phi\\right)\\right)} m\\)</html>"
      ],
      "text/latex": [
       "$\\displaystyle {p_\\phi} = {\\left({\\left(l {\\dot{\\phi}} \\cos\\left(\\phi\\right) + {\\dot{x}}^{2}\\right)} l \\cos\\left(\\phi\\right) + {\\left(2 \\, a x {\\dot{x}} + l {\\dot{\\phi}} \\sin\\left(\\phi\\right)\\right)} l \\sin\\left(\\phi\\right)\\right)} m$"
      ],
      "text/plain": [
       "pphi == ((l*phid*cos(phi) + xd^2)*l*cos(phi) + (2*a*x*xd + l*phid*sin(phi))*l*sin(phi))*m"
      ]
     },
     "metadata": {},
     "output_type": "display_data"
    }
   ],
   "source": [
    "show(px_eq)\n",
    "show(pphi_eq)"
   ]
  },
  {
   "cell_type": "code",
   "execution_count": 32,
   "metadata": {},
   "outputs": [
    {
     "data": {
      "text/html": [
       "<html>\\(\\displaystyle {\\left(a x^{2} - l \\cos\\left(\\phi\\right)\\right)} g m + \\frac{1}{2} \\, {\\left({\\left(2 \\, a x {\\dot{x}} + l {\\dot{\\phi}} \\sin\\left(\\phi\\right)\\right)}^{2} + {\\left(l {\\dot{\\phi}} \\cos\\left(\\phi\\right) + {\\dot{x}}^{2}\\right)}^{2}\\right)} m\\)</html>"
      ],
      "text/latex": [
       "$\\displaystyle {\\left(a x^{2} - l \\cos\\left(\\phi\\right)\\right)} g m + \\frac{1}{2} \\, {\\left({\\left(2 \\, a x {\\dot{x}} + l {\\dot{\\phi}} \\sin\\left(\\phi\\right)\\right)}^{2} + {\\left(l {\\dot{\\phi}} \\cos\\left(\\phi\\right) + {\\dot{x}}^{2}\\right)}^{2}\\right)} m$"
      ],
      "text/plain": [
       "(a*x^2 - l*cos(phi))*g*m + 1/2*((2*a*x*xd + l*phid*sin(phi))^2 + (l*phid*cos(phi) + xd^2)^2)*m"
      ]
     },
     "metadata": {},
     "output_type": "display_data"
    }
   ],
   "source": [
    "H = T + V\n",
    "show(H)"
   ]
  },
  {
   "cell_type": "code",
   "execution_count": 34,
   "metadata": {},
   "outputs": [
    {
     "data": {
      "text/html": [
       "<html>\\(\\displaystyle {\\left(a x^{2} - l \\cos\\left(\\phi\\right)\\right)} g m + \\frac{1}{2} \\, {\\left({\\left(2 \\, a x {\\dot{x}} + l {\\dot{\\phi}} \\sin\\left(\\phi\\right)\\right)}^{2} + {\\left(l {\\dot{\\phi}} \\cos\\left(\\phi\\right) + {\\dot{x}}^{2}\\right)}^{2}\\right)} m\\)</html>"
      ],
      "text/latex": [
       "$\\displaystyle {\\left(a x^{2} - l \\cos\\left(\\phi\\right)\\right)} g m + \\frac{1}{2} \\, {\\left({\\left(2 \\, a x {\\dot{x}} + l {\\dot{\\phi}} \\sin\\left(\\phi\\right)\\right)}^{2} + {\\left(l {\\dot{\\phi}} \\cos\\left(\\phi\\right) + {\\dot{x}}^{2}\\right)}^{2}\\right)} m$"
      ],
      "text/plain": [
       "(a*x^2 - l*cos(phi))*g*m + 1/2*((2*a*x*xd + l*phid*sin(phi))^2 + (l*phid*cos(phi) + xd^2)^2)*m"
      ]
     },
     "metadata": {},
     "output_type": "display_data"
    }
   ],
   "source": [
    "show(H.substitute([px_eq,pphi_eq]))"
   ]
  },
  {
   "cell_type": "code",
   "execution_count": 25,
   "metadata": {},
   "outputs": [
    {
     "data": {
      "text/html": [
       "<html>\\(\\displaystyle \\frac{{p_x}}{m} = 4 \\, a^{2} x^{2} {\\dot{x}} + 2 \\, a l {\\dot{\\phi}} x \\sin\\left(\\phi\\right) + 2 \\, l {\\dot{\\phi}} {\\dot{x}} \\cos\\left(\\phi\\right) + 2 \\, {\\dot{x}}^{3}\\)</html>"
      ],
      "text/latex": [
       "$\\displaystyle \\frac{{p_x}}{m} = 4 \\, a^{2} x^{2} {\\dot{x}} + 2 \\, a l {\\dot{\\phi}} x \\sin\\left(\\phi\\right) + 2 \\, l {\\dot{\\phi}} {\\dot{x}} \\cos\\left(\\phi\\right) + 2 \\, {\\dot{x}}^{3}$"
      ],
      "text/plain": [
       "px/m == 4*a^2*x^2*xd + 2*a*l*phid*x*sin(phi) + 2*l*phid*xd*cos(phi) + 2*xd^3"
      ]
     },
     "metadata": {},
     "output_type": "display_data"
    }
   ],
   "source": [
    "show( (px_eq /m).factor())"
   ]
  },
  {
   "cell_type": "code",
   "execution_count": 26,
   "metadata": {},
   "outputs": [
    {
     "data": {
      "text/html": [
       "<html>\\(\\displaystyle \\frac{{p_\\phi}}{m} = {\\left(l {\\dot{\\phi}} \\cos\\left(\\phi\\right) + {\\dot{x}}^{2}\\right)} l \\cos\\left(\\phi\\right) + {\\left(2 \\, a x {\\dot{x}} + l {\\dot{\\phi}} \\sin\\left(\\phi\\right)\\right)} l \\sin\\left(\\phi\\right)\\)</html>"
      ],
      "text/latex": [
       "$\\displaystyle \\frac{{p_\\phi}}{m} = {\\left(l {\\dot{\\phi}} \\cos\\left(\\phi\\right) + {\\dot{x}}^{2}\\right)} l \\cos\\left(\\phi\\right) + {\\left(2 \\, a x {\\dot{x}} + l {\\dot{\\phi}} \\sin\\left(\\phi\\right)\\right)} l \\sin\\left(\\phi\\right)$"
      ],
      "text/plain": [
       "pphi/m == (l*phid*cos(phi) + xd^2)*l*cos(phi) + (2*a*x*xd + l*phid*sin(phi))*l*sin(phi)"
      ]
     },
     "metadata": {},
     "output_type": "display_data"
    }
   ],
   "source": [
    "show( (pphi_eq/m))"
   ]
  },
  {
   "cell_type": "code",
   "execution_count": 30,
   "metadata": {},
   "outputs": [
    {
     "data": {
      "text/html": [
       "<html>\\(\\displaystyle -\\frac{{p_\\phi} - {p_x}}{m} = 2 \\, a l {\\dot{\\phi}} x \\sin\\left(\\phi\\right) - l {\\dot{x}}^{2} \\cos\\left(\\phi\\right) - l^{2} {\\dot{\\phi}} + 2 \\, {\\dot{x}}^{3} + 2 \\, {\\left(2 \\, a^{2} x^{2} - a l x \\sin\\left(\\phi\\right) + l {\\dot{\\phi}} \\cos\\left(\\phi\\right)\\right)} {\\dot{x}}\\)</html>"
      ],
      "text/latex": [
       "$\\displaystyle -\\frac{{p_\\phi} - {p_x}}{m} = 2 \\, a l {\\dot{\\phi}} x \\sin\\left(\\phi\\right) - l {\\dot{x}}^{2} \\cos\\left(\\phi\\right) - l^{2} {\\dot{\\phi}} + 2 \\, {\\dot{x}}^{3} + 2 \\, {\\left(2 \\, a^{2} x^{2} - a l x \\sin\\left(\\phi\\right) + l {\\dot{\\phi}} \\cos\\left(\\phi\\right)\\right)} {\\dot{x}}$"
      ],
      "text/plain": [
       "-(pphi - px)/m == 2*a*l*phid*x*sin(phi) - l*xd^2*cos(phi) - l^2*phid + 2*xd^3 + 2*(2*a^2*x^2 - a*l*x*sin(phi) + l*phid*cos(phi))*xd"
      ]
     },
     "metadata": {},
     "output_type": "display_data"
    }
   ],
   "source": [
    "show( (px_eq /m - pphi_eq/m).full_simplify())"
   ]
  },
  {
   "cell_type": "code",
   "execution_count": 18,
   "metadata": {},
   "outputs": [],
   "source": []
  },
  {
   "cell_type": "code",
   "execution_count": 19,
   "metadata": {},
   "outputs": [
    {
     "data": {
      "text/plain": [
       "[]"
      ]
     },
     "execution_count": 19,
     "metadata": {},
     "output_type": "execute_result"
    }
   ],
   "source": [
    "q_in_p"
   ]
  },
  {
   "cell_type": "code",
   "execution_count": null,
   "metadata": {},
   "outputs": [],
   "source": []
  }
 ],
 "metadata": {
  "kernelspec": {
   "display_name": "SageMath 9.7",
   "language": "sage",
   "name": "SageMath-9.7"
  },
  "language_info": {
   "codemirror_mode": {
    "name": "ipython",
    "version": 3
   },
   "file_extension": ".py",
   "mimetype": "text/x-python",
   "name": "python",
   "nbconvert_exporter": "python",
   "pygments_lexer": "ipython3",
   "version": "3.10.5"
  }
 },
 "nbformat": 4,
 "nbformat_minor": 2
}
