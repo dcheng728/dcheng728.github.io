{
 "cells": [
  {
   "cell_type": "markdown",
   "id": "59e1cf6b",
   "metadata": {},
   "source": [
    "# Goldstein exercise 8.15\n",
    "this exercise is solved in hami and checked in lagr, using sage\n",
    "\n",
    "author: davidson cheng\n",
    "date: 2/8/2024"
   ]
  },
  {
   "cell_type": "markdown",
   "id": "66f802ef",
   "metadata": {},
   "source": [
    "We begin with \n",
    "\n",
    "$$L = \\dot{q}_1^2 + \\frac{1}{a+b q_1^2} \\dot{q}_2^2+ k_1 q_1^2 + k_2 \\dot{q}_1 \\dot{q}_2$$"
   ]
  },
  {
   "cell_type": "markdown",
   "id": "6e0f7ba4",
   "metadata": {},
   "source": [
    "Use $p_i = \\frac{\\partial L}{\\partial \\dot{q}_i}$ gives\n",
    "\n",
    "$$p_1 = 2 \\dot{q}_1 + k_2\\dot{q}_2, \\quad p_2 = \\frac{2}{a+b q_1^2}\\dot{q}_2 + k_2 \\dot{q}_1$$"
   ]
  },
  {
   "cell_type": "markdown",
   "id": "d3c1a1f3",
   "metadata": {},
   "source": [
    "Apply $H = p_i \\dot{q}_i - L$ gives\n",
    "\n",
    "$$H = \\dot{q}_1^2 + \\frac{1}{a+b q_1^2} \\dot{q}_2^2 + k_2 \\dot{q}_1 \\dot{q}_2 - k_1 q_1^2$$\n"
   ]
  },
  {
   "cell_type": "markdown",
   "id": "b16a6267",
   "metadata": {},
   "source": [
    "Yet this is in terms of $q, \\dot{q}$, we want the Hami in $p, q$. To do so we notice $p_1, p_2$ are bilinear in $\\dot{q}_1, \\dot{q}_2$, so we can create linear combinations of $\\dot{q}$ using $p$. We do so symbolically using sage below."
   ]
  },
  {
   "cell_type": "markdown",
   "id": "18219650",
   "metadata": {},
   "source": [
    "# symbolic computation"
   ]
  },
  {
   "cell_type": "code",
   "execution_count": 41,
   "id": "1bbf2d17",
   "metadata": {
    "vscode": {
     "languageId": "python"
    }
   },
   "outputs": [
    {
     "data": {
      "text/html": [
       "<html>\\(\\displaystyle \\left[p_{1} = k_{2} {\\dot{q}_2} + 2 \\, {\\dot{q}_1}, p_{2} = k_{2} {\\dot{q}_1} + \\frac{2 \\, {\\dot{q}_2}}{b q_{1}^{2} + a}\\right]\\)</html>"
      ],
      "text/latex": [
       "$\\displaystyle \\left[p_{1} = k_{2} {\\dot{q}_2} + 2 \\, {\\dot{q}_1}, p_{2} = k_{2} {\\dot{q}_1} + \\frac{2 \\, {\\dot{q}_2}}{b q_{1}^{2} + a}\\right]$"
      ],
      "text/plain": [
       "[p_1 == k_2*q2d + 2*q1d, p_2 == k_2*q1d + 2*q2d/(b*q_1^2 + a)]"
      ]
     },
     "metadata": {},
     "output_type": "display_data"
    }
   ],
   "source": [
    "p1, p2, q1, k1, k2 = var('p_1, p_2, q_1, k_1, k_2')\n",
    "a, b = var('a, b')\n",
    "q1d = var('q1d', latex_name=\"\\dot{q}_1\")\n",
    "q2d = var('q2d', latex_name=\"\\dot{q}_2\")\n",
    "\n",
    "#equations for p\n",
    "eqs = [p1 == 2* q1d + k2 * q2d, p2 == (2/(a+b*q_1^2))*q2d + k2 * q1d] \n",
    "\n",
    "show(eqs)"
   ]
  },
  {
   "cell_type": "code",
   "execution_count": 42,
   "id": "cddedb09",
   "metadata": {
    "vscode": {
     "languageId": "python"
    }
   },
   "outputs": [
    {
     "data": {
      "text/html": [
       "<html>\\(\\displaystyle \\left[\\left[{\\dot{q}_1} = \\frac{{\\left(b p_{2} q_{1}^{2} + a p_{2}\\right)} k_{2} - 2 \\, p_{1}}{{\\left(b q_{1}^{2} + a\\right)} k_{2}^{2} - 4}, {\\dot{q}_2} = -\\frac{2 \\, b p_{2} q_{1}^{2} - {\\left(b q_{1}^{2} + a\\right)} k_{2} p_{1} + 2 \\, a p_{2}}{{\\left(b q_{1}^{2} + a\\right)} k_{2}^{2} - 4}\\right]\\right]\\)</html>"
      ],
      "text/latex": [
       "$\\displaystyle \\left[\\left[{\\dot{q}_1} = \\frac{{\\left(b p_{2} q_{1}^{2} + a p_{2}\\right)} k_{2} - 2 \\, p_{1}}{{\\left(b q_{1}^{2} + a\\right)} k_{2}^{2} - 4}, {\\dot{q}_2} = -\\frac{2 \\, b p_{2} q_{1}^{2} - {\\left(b q_{1}^{2} + a\\right)} k_{2} p_{1} + 2 \\, a p_{2}}{{\\left(b q_{1}^{2} + a\\right)} k_{2}^{2} - 4}\\right]\\right]$"
      ],
      "text/plain": [
       "[[q1d == ((b*p_2*q_1^2 + a*p_2)*k_2 - 2*p_1)/((b*q_1^2 + a)*k_2^2 - 4), q2d == -(2*b*p_2*q_1^2 - (b*q_1^2 + a)*k_2*p_1 + 2*a*p_2)/((b*q_1^2 + a)*k_2^2 - 4)]]"
      ]
     },
     "metadata": {},
     "output_type": "display_data"
    }
   ],
   "source": [
    "soln = solve(eqs, q1d, q2d)\n",
    "show(soln)"
   ]
  },
  {
   "cell_type": "markdown",
   "id": "dcb439d8",
   "metadata": {},
   "source": [
    "## substitution"
   ]
  },
  {
   "cell_type": "code",
   "execution_count": 43,
   "id": "75548377",
   "metadata": {
    "vscode": {
     "languageId": "python"
    }
   },
   "outputs": [
    {
     "data": {
      "text/html": [
       "<html>\\(\\displaystyle k_{2} {\\dot{q}_1} {\\dot{q}_2} - k_{1} q_{1}^{2} + {\\dot{q}_1}^{2} + \\frac{{\\dot{q}_2}^{2}}{b q_{1}^{2} + a}\\)</html>"
      ],
      "text/latex": [
       "$\\displaystyle k_{2} {\\dot{q}_1} {\\dot{q}_2} - k_{1} q_{1}^{2} + {\\dot{q}_1}^{2} + \\frac{{\\dot{q}_2}^{2}}{b q_{1}^{2} + a}$"
      ],
      "text/plain": [
       "k_2*q1d*q2d - k_1*q_1^2 + q1d^2 + q2d^2/(b*q_1^2 + a)"
      ]
     },
     "metadata": {},
     "output_type": "display_data"
    }
   ],
   "source": [
    "Hami = q1d^2 + (1/(a+b*q_1^2)) * q2d^2 + k2 * q1d * q2d - k1 * q1^2\n",
    "show(Hami)"
   ]
  },
  {
   "cell_type": "code",
   "execution_count": 44,
   "id": "113e2088",
   "metadata": {
    "vscode": {
     "languageId": "python"
    }
   },
   "outputs": [
    {
     "data": {
      "text/html": [
       "<html>\\(\\displaystyle -k_{1} q_{1}^{2} - \\frac{{\\left(2 \\, b p_{2} q_{1}^{2} - {\\left(b q_{1}^{2} + a\\right)} k_{2} p_{1} + 2 \\, a p_{2}\\right)} {\\left({\\left(b p_{2} q_{1}^{2} + a p_{2}\\right)} k_{2} - 2 \\, p_{1}\\right)} k_{2}}{{\\left({\\left(b q_{1}^{2} + a\\right)} k_{2}^{2} - 4\\right)}^{2}} + \\frac{{\\left({\\left(b p_{2} q_{1}^{2} + a p_{2}\\right)} k_{2} - 2 \\, p_{1}\\right)}^{2}}{{\\left({\\left(b q_{1}^{2} + a\\right)} k_{2}^{2} - 4\\right)}^{2}} + \\frac{{\\left(2 \\, b p_{2} q_{1}^{2} - {\\left(b q_{1}^{2} + a\\right)} k_{2} p_{1} + 2 \\, a p_{2}\\right)}^{2}}{{\\left({\\left(b q_{1}^{2} + a\\right)} k_{2}^{2} - 4\\right)}^{2} {\\left(b q_{1}^{2} + a\\right)}}\\)</html>"
      ],
      "text/latex": [
       "$\\displaystyle -k_{1} q_{1}^{2} - \\frac{{\\left(2 \\, b p_{2} q_{1}^{2} - {\\left(b q_{1}^{2} + a\\right)} k_{2} p_{1} + 2 \\, a p_{2}\\right)} {\\left({\\left(b p_{2} q_{1}^{2} + a p_{2}\\right)} k_{2} - 2 \\, p_{1}\\right)} k_{2}}{{\\left({\\left(b q_{1}^{2} + a\\right)} k_{2}^{2} - 4\\right)}^{2}} + \\frac{{\\left({\\left(b p_{2} q_{1}^{2} + a p_{2}\\right)} k_{2} - 2 \\, p_{1}\\right)}^{2}}{{\\left({\\left(b q_{1}^{2} + a\\right)} k_{2}^{2} - 4\\right)}^{2}} + \\frac{{\\left(2 \\, b p_{2} q_{1}^{2} - {\\left(b q_{1}^{2} + a\\right)} k_{2} p_{1} + 2 \\, a p_{2}\\right)}^{2}}{{\\left({\\left(b q_{1}^{2} + a\\right)} k_{2}^{2} - 4\\right)}^{2} {\\left(b q_{1}^{2} + a\\right)}}$"
      ],
      "text/plain": [
       "-k_1*q_1^2 - (2*b*p_2*q_1^2 - (b*q_1^2 + a)*k_2*p_1 + 2*a*p_2)*((b*p_2*q_1^2 + a*p_2)*k_2 - 2*p_1)*k_2/((b*q_1^2 + a)*k_2^2 - 4)^2 + ((b*p_2*q_1^2 + a*p_2)*k_2 - 2*p_1)^2/((b*q_1^2 + a)*k_2^2 - 4)^2 + (2*b*p_2*q_1^2 - (b*q_1^2 + a)*k_2*p_1 + 2*a*p_2)^2/(((b*q_1^2 + a)*k_2^2 - 4)^2*(b*q_1^2 + a))"
      ]
     },
     "metadata": {},
     "output_type": "display_data"
    }
   ],
   "source": [
    "Hami = Hami.substitute(soln) \n",
    "show(Hami)"
   ]
  },
  {
   "cell_type": "markdown",
   "id": "0f89c070",
   "metadata": {},
   "source": [
    "# statement of solution"
   ]
  },
  {
   "cell_type": "markdown",
   "id": "c342579c",
   "metadata": {},
   "source": [
    "We are now in position to state the solutions to the problem in Hamiltonian formalism, with the following form of Hamiltonian"
   ]
  },
  {
   "cell_type": "code",
   "execution_count": 45,
   "id": "4aa123c7",
   "metadata": {
    "vscode": {
     "languageId": "python"
    }
   },
   "outputs": [
    {
     "data": {
      "text/html": [
       "<html>\\(\\displaystyle -k_{1} q_{1}^{2} - \\frac{{\\left(2 \\, b p_{2} q_{1}^{2} - {\\left(b q_{1}^{2} + a\\right)} k_{2} p_{1} + 2 \\, a p_{2}\\right)} {\\left({\\left(b p_{2} q_{1}^{2} + a p_{2}\\right)} k_{2} - 2 \\, p_{1}\\right)} k_{2}}{{\\left({\\left(b q_{1}^{2} + a\\right)} k_{2}^{2} - 4\\right)}^{2}} + \\frac{{\\left({\\left(b p_{2} q_{1}^{2} + a p_{2}\\right)} k_{2} - 2 \\, p_{1}\\right)}^{2}}{{\\left({\\left(b q_{1}^{2} + a\\right)} k_{2}^{2} - 4\\right)}^{2}} + \\frac{{\\left(2 \\, b p_{2} q_{1}^{2} - {\\left(b q_{1}^{2} + a\\right)} k_{2} p_{1} + 2 \\, a p_{2}\\right)}^{2}}{{\\left({\\left(b q_{1}^{2} + a\\right)} k_{2}^{2} - 4\\right)}^{2} {\\left(b q_{1}^{2} + a\\right)}}\\)</html>"
      ],
      "text/latex": [
       "$\\displaystyle -k_{1} q_{1}^{2} - \\frac{{\\left(2 \\, b p_{2} q_{1}^{2} - {\\left(b q_{1}^{2} + a\\right)} k_{2} p_{1} + 2 \\, a p_{2}\\right)} {\\left({\\left(b p_{2} q_{1}^{2} + a p_{2}\\right)} k_{2} - 2 \\, p_{1}\\right)} k_{2}}{{\\left({\\left(b q_{1}^{2} + a\\right)} k_{2}^{2} - 4\\right)}^{2}} + \\frac{{\\left({\\left(b p_{2} q_{1}^{2} + a p_{2}\\right)} k_{2} - 2 \\, p_{1}\\right)}^{2}}{{\\left({\\left(b q_{1}^{2} + a\\right)} k_{2}^{2} - 4\\right)}^{2}} + \\frac{{\\left(2 \\, b p_{2} q_{1}^{2} - {\\left(b q_{1}^{2} + a\\right)} k_{2} p_{1} + 2 \\, a p_{2}\\right)}^{2}}{{\\left({\\left(b q_{1}^{2} + a\\right)} k_{2}^{2} - 4\\right)}^{2} {\\left(b q_{1}^{2} + a\\right)}}$"
      ],
      "text/plain": [
       "-k_1*q_1^2 - (2*b*p_2*q_1^2 - (b*q_1^2 + a)*k_2*p_1 + 2*a*p_2)*((b*p_2*q_1^2 + a*p_2)*k_2 - 2*p_1)*k_2/((b*q_1^2 + a)*k_2^2 - 4)^2 + ((b*p_2*q_1^2 + a*p_2)*k_2 - 2*p_1)^2/((b*q_1^2 + a)*k_2^2 - 4)^2 + (2*b*p_2*q_1^2 - (b*q_1^2 + a)*k_2*p_1 + 2*a*p_2)^2/(((b*q_1^2 + a)*k_2^2 - 4)^2*(b*q_1^2 + a))"
      ]
     },
     "metadata": {},
     "output_type": "display_data"
    }
   ],
   "source": [
    "show(Hami)"
   ]
  },
  {
   "cell_type": "markdown",
   "id": "252d25a8",
   "metadata": {},
   "source": [
    "The variable $q_2$ is cyclic, so \n",
    "\n",
    "$$\\dot{p}_2 = 0$$"
   ]
  },
  {
   "cell_type": "markdown",
   "id": "48f3acc8",
   "metadata": {},
   "source": [
    "We obtain the other equation upon differentiation"
   ]
  },
  {
   "cell_type": "code",
   "execution_count": 46,
   "id": "67216aeb",
   "metadata": {
    "vscode": {
     "languageId": "python"
    }
   },
   "outputs": [
    {
     "data": {
      "text/html": [
       "<html>\\(\\displaystyle {\\dot{p}_1} = \\frac{2 \\, {\\left(b^{2} k_{1} k_{2}^{4} q_{1}^{5} + 2 \\, {\\left(a b k_{1} k_{2}^{4} - 4 \\, b k_{1} k_{2}^{2}\\right)} q_{1}^{3} + {\\left(a^{2} k_{1} k_{2}^{4} - b k_{2}^{2} p_{1}^{2} - 8 \\, a k_{1} k_{2}^{2} + 4 \\, b k_{2} p_{1} p_{2} - 4 \\, b p_{2}^{2} + 16 \\, k_{1}\\right)} q_{1}\\right)}}{b^{2} k_{2}^{4} q_{1}^{4} + a^{2} k_{2}^{4} - 8 \\, a k_{2}^{2} + 2 \\, {\\left(a b k_{2}^{4} - 4 \\, b k_{2}^{2}\\right)} q_{1}^{2} + 16}\\)</html>"
      ],
      "text/latex": [
       "$\\displaystyle {\\dot{p}_1} = \\frac{2 \\, {\\left(b^{2} k_{1} k_{2}^{4} q_{1}^{5} + 2 \\, {\\left(a b k_{1} k_{2}^{4} - 4 \\, b k_{1} k_{2}^{2}\\right)} q_{1}^{3} + {\\left(a^{2} k_{1} k_{2}^{4} - b k_{2}^{2} p_{1}^{2} - 8 \\, a k_{1} k_{2}^{2} + 4 \\, b k_{2} p_{1} p_{2} - 4 \\, b p_{2}^{2} + 16 \\, k_{1}\\right)} q_{1}\\right)}}{b^{2} k_{2}^{4} q_{1}^{4} + a^{2} k_{2}^{4} - 8 \\, a k_{2}^{2} + 2 \\, {\\left(a b k_{2}^{4} - 4 \\, b k_{2}^{2}\\right)} q_{1}^{2} + 16}$"
      ],
      "text/plain": [
       "p1d == 2*(b^2*k_1*k_2^4*q_1^5 + 2*(a*b*k_1*k_2^4 - 4*b*k_1*k_2^2)*q_1^3 + (a^2*k_1*k_2^4 - b*k_2^2*p_1^2 - 8*a*k_1*k_2^2 + 4*b*k_2*p_1*p_2 - 4*b*p_2^2 + 16*k_1)*q_1)/(b^2*k_2^4*q_1^4 + a^2*k_2^4 - 8*a*k_2^2 + 2*(a*b*k_2^4 - 4*b*k_2^2)*q_1^2 + 16)"
      ]
     },
     "metadata": {},
     "output_type": "display_data"
    }
   ],
   "source": [
    "p1d = var('p1d', latex_name=\"\\dot{p}_1\")\n",
    "ham_eq_p1 = p1d == -diff(Hami,q1)\n",
    "show(ham_eq_p1.full_simplify())"
   ]
  },
  {
   "cell_type": "markdown",
   "id": "64de44ad",
   "metadata": {},
   "source": [
    "# getting lagr eqms as check"
   ]
  },
  {
   "cell_type": "code",
   "execution_count": 47,
   "id": "e737eb70",
   "metadata": {
    "vscode": {
     "languageId": "python"
    }
   },
   "outputs": [
    {
     "data": {
      "text/html": [
       "<html>\\(\\displaystyle k_{2} {\\dot{q}_1} {\\dot{q}_2} + k_{1} q_{1}^{2} + {\\dot{q}_1}^{2} + \\frac{{\\dot{q}_2}^{2}}{b q_{1}^{2} + a}\\)</html>"
      ],
      "text/latex": [
       "$\\displaystyle k_{2} {\\dot{q}_1} {\\dot{q}_2} + k_{1} q_{1}^{2} + {\\dot{q}_1}^{2} + \\frac{{\\dot{q}_2}^{2}}{b q_{1}^{2} + a}$"
      ],
      "text/plain": [
       "k_2*q1d*q2d + k_1*q_1^2 + q1d^2 + q2d^2/(b*q_1^2 + a)"
      ]
     },
     "metadata": {},
     "output_type": "display_data"
    }
   ],
   "source": [
    "L = q1d^2 + (1/(a+b*q1^2)) * q2d^2 + k1*q1^2 + k2 * q1d * q2d\n",
    "show(L)"
   ]
  },
  {
   "cell_type": "code",
   "execution_count": 48,
   "id": "6b0e129d",
   "metadata": {
    "vscode": {
     "languageId": "python"
    }
   },
   "outputs": [],
   "source": [
    "q1dd = var('q1dd', latex_name=\"\\ddot{q}_1\")\n",
    "q2dd = var('q2dd', latex_name=\"\\ddot{q}_2\")"
   ]
  },
  {
   "cell_type": "code",
   "execution_count": 49,
   "id": "1596a5d1",
   "metadata": {
    "vscode": {
     "languageId": "python"
    }
   },
   "outputs": [
    {
     "data": {
      "text/html": [
       "<html>\\(\\displaystyle \\left[k_{2} {\\ddot{q}_2} + 2 \\, {\\ddot{q}_1} = 2 \\, k_{1} q_{1} - \\frac{2 \\, b {\\dot{q}_2}^{2} q_{1}}{{\\left(b q_{1}^{2} + a\\right)}^{2}}, k_{2} {\\ddot{q}_1} + \\frac{2 \\, {\\ddot{q}_2}}{b q_{1}^{2} + a} = 0\\right]\\)</html>"
      ],
      "text/latex": [
       "$\\displaystyle \\left[k_{2} {\\ddot{q}_2} + 2 \\, {\\ddot{q}_1} = 2 \\, k_{1} q_{1} - \\frac{2 \\, b {\\dot{q}_2}^{2} q_{1}}{{\\left(b q_{1}^{2} + a\\right)}^{2}}, k_{2} {\\ddot{q}_1} + \\frac{2 \\, {\\ddot{q}_2}}{b q_{1}^{2} + a} = 0\\right]$"
      ],
      "text/plain": [
       "[k_2*q2dd + 2*q1dd == 2*k_1*q_1 - 2*b*q2d^2*q_1/(b*q_1^2 + a)^2,\n",
       " k_2*q1dd + 2*q2dd/(b*q_1^2 + a) == 0]"
      ]
     },
     "metadata": {},
     "output_type": "display_data"
    }
   ],
   "source": [
    "lagr_eq1 = k_2*q2dd + 2*q1dd == diff(L,q1)\n",
    "lagr_eq2 = k_2*q1dd + 2*(1/(a + b * q1^2))*q2dd == 0\n",
    "\n",
    "lagr_eqms = [lagr_eq1, lagr_eq2]\n",
    "show(lagr_eqms)"
   ]
  },
  {
   "cell_type": "code",
   "execution_count": 50,
   "id": "02d6a659",
   "metadata": {
    "vscode": {
     "languageId": "python"
    }
   },
   "outputs": [
    {
     "data": {
      "text/plain": [
       "k_2*q2dd + 2*q1dd == 2*k_1*q_1 - 2*b*q2d^2*q_1/(b*q_1^2 + a)^2"
      ]
     },
     "execution_count": 50,
     "metadata": {},
     "output_type": "execute_result"
    }
   ],
   "source": [
    "lagr_eqms[0]"
   ]
  },
  {
   "cell_type": "markdown",
   "id": "4369af5b",
   "metadata": {},
   "source": [
    "The lagrangian eqms are\n",
    "\n",
    "$$k_{2} {\\ddot{q}_2} + 2 \\, {\\ddot{q}_1} = 2 \\, k_{1} q_{1} - \\frac{2 \\, b {\\dot{q}_2}^{2} q_{1}}{{\\left(b q_{1}^{2} + a\\right)}^{2}}$$\n",
    "\n",
    "$$k_{2} {\\ddot{q}_1} + 2 \\, c {\\ddot{q}_2} = 0$$"
   ]
  },
  {
   "cell_type": "markdown",
   "id": "7162fa2f",
   "metadata": {},
   "source": [
    "They correspond to \n",
    "\n",
    "$$\\dot{p}_1 = 2 \\, k_{1} q_{1} - \\frac{2 \\, b {\\dot{q}_2}^{2} q_{1}}{{\\left(b q_{1}^{2} + a\\right)}^{2}}$$\n",
    "\n",
    "$$\\dot{p}_2 = 0$$"
   ]
  },
  {
   "cell_type": "markdown",
   "id": "ef73bd34",
   "metadata": {},
   "source": [
    "To check equivalence of this with the hami formalism, we want to express \n",
    "\n",
    "$$\\dot{p}_1 = 2 \\, k_{1} q_{1} - \\frac{2 \\, b {\\dot{q}_2}^{2} q_{1}}{{\\left(b q_{1}^{2} + a\\right)}^{2}}$$\n",
    "\n",
    "in $p_1, p_2, q_1$"
   ]
  },
  {
   "cell_type": "code",
   "execution_count": 51,
   "id": "e9326207",
   "metadata": {
    "vscode": {
     "languageId": "python"
    }
   },
   "outputs": [
    {
     "data": {
      "text/html": [
       "<html>\\(\\displaystyle 2 \\, k_{1} q_{1} - \\frac{2 \\, {\\left(2 \\, b p_{2} q_{1}^{2} - {\\left(b q_{1}^{2} + a\\right)} k_{2} p_{1} + 2 \\, a p_{2}\\right)}^{2} b q_{1}}{{\\left({\\left(b q_{1}^{2} + a\\right)} k_{2}^{2} - 4\\right)}^{2} {\\left(b q_{1}^{2} + a\\right)}^{2}}\\)</html>"
      ],
      "text/latex": [
       "$\\displaystyle 2 \\, k_{1} q_{1} - \\frac{2 \\, {\\left(2 \\, b p_{2} q_{1}^{2} - {\\left(b q_{1}^{2} + a\\right)} k_{2} p_{1} + 2 \\, a p_{2}\\right)}^{2} b q_{1}}{{\\left({\\left(b q_{1}^{2} + a\\right)} k_{2}^{2} - 4\\right)}^{2} {\\left(b q_{1}^{2} + a\\right)}^{2}}$"
      ],
      "text/plain": [
       "2*k_1*q_1 - 2*(2*b*p_2*q_1^2 - (b*q_1^2 + a)*k_2*p_1 + 2*a*p_2)^2*b*q_1/(((b*q_1^2 + a)*k_2^2 - 4)^2*(b*q_1^2 + a)^2)"
      ]
     },
     "metadata": {},
     "output_type": "display_data"
    }
   ],
   "source": [
    "expr = 2*k_1*q_1 - 2*b*q2d^2*q_1/(b*q_1^2 + a)^2\n",
    "expr = expr.substitute(soln)\n",
    "show(expr)"
   ]
  },
  {
   "cell_type": "code",
   "execution_count": 52,
   "id": "a856aaa7",
   "metadata": {
    "vscode": {
     "languageId": "python"
    }
   },
   "outputs": [],
   "source": [
    "check = expr == -diff(Hami,q1)"
   ]
  },
  {
   "cell_type": "code",
   "execution_count": 53,
   "id": "45197ec2",
   "metadata": {
    "vscode": {
     "languageId": "python"
    }
   },
   "outputs": [
    {
     "data": {
      "text/html": [
       "<html>\\(\\displaystyle 2 \\, k_{1} q_{1} - \\frac{2 \\, {\\left(2 \\, b p_{2} q_{1}^{2} - {\\left(b q_{1}^{2} + a\\right)} k_{2} p_{1} + 2 \\, a p_{2}\\right)}^{2} b q_{1}}{{\\left({\\left(b q_{1}^{2} + a\\right)} k_{2}^{2} - 4\\right)}^{2} {\\left(b q_{1}^{2} + a\\right)}^{2}} = -\\frac{4 \\, {\\left(2 \\, b p_{2} q_{1}^{2} - {\\left(b q_{1}^{2} + a\\right)} k_{2} p_{1} + 2 \\, a p_{2}\\right)} {\\left({\\left(b p_{2} q_{1}^{2} + a p_{2}\\right)} k_{2} - 2 \\, p_{1}\\right)} b k_{2}^{3} q_{1}}{{\\left({\\left(b q_{1}^{2} + a\\right)} k_{2}^{2} - 4\\right)}^{3}} + \\frac{2 \\, {\\left(2 \\, b p_{2} q_{1}^{2} - {\\left(b q_{1}^{2} + a\\right)} k_{2} p_{1} + 2 \\, a p_{2}\\right)} b k_{2}^{2} p_{2} q_{1}}{{\\left({\\left(b q_{1}^{2} + a\\right)} k_{2}^{2} - 4\\right)}^{2}} + \\frac{4 \\, {\\left({\\left(b p_{2} q_{1}^{2} + a p_{2}\\right)} k_{2} - 2 \\, p_{1}\\right)}^{2} b k_{2}^{2} q_{1}}{{\\left({\\left(b q_{1}^{2} + a\\right)} k_{2}^{2} - 4\\right)}^{3}} - \\frac{4 \\, {\\left({\\left(b p_{2} q_{1}^{2} + a p_{2}\\right)} k_{2} - 2 \\, p_{1}\\right)} b k_{2} p_{2} q_{1}}{{\\left({\\left(b q_{1}^{2} + a\\right)} k_{2}^{2} - 4\\right)}^{2}} + 2 \\, k_{1} q_{1} + \\frac{4 \\, {\\left(2 \\, b p_{2} q_{1}^{2} - {\\left(b q_{1}^{2} + a\\right)} k_{2} p_{1} + 2 \\, a p_{2}\\right)}^{2} b k_{2}^{2} q_{1}}{{\\left({\\left(b q_{1}^{2} + a\\right)} k_{2}^{2} - 4\\right)}^{3} {\\left(b q_{1}^{2} + a\\right)}} - \\frac{2 \\, {\\left(b k_{2} p_{1} q_{1} - 2 \\, b p_{2} q_{1}\\right)} {\\left({\\left(b p_{2} q_{1}^{2} + a p_{2}\\right)} k_{2} - 2 \\, p_{1}\\right)} k_{2}}{{\\left({\\left(b q_{1}^{2} + a\\right)} k_{2}^{2} - 4\\right)}^{2}} + \\frac{2 \\, {\\left(2 \\, b p_{2} q_{1}^{2} - {\\left(b q_{1}^{2} + a\\right)} k_{2} p_{1} + 2 \\, a p_{2}\\right)}^{2} b q_{1}}{{\\left({\\left(b q_{1}^{2} + a\\right)} k_{2}^{2} - 4\\right)}^{2} {\\left(b q_{1}^{2} + a\\right)}^{2}} + \\frac{4 \\, {\\left(b k_{2} p_{1} q_{1} - 2 \\, b p_{2} q_{1}\\right)} {\\left(2 \\, b p_{2} q_{1}^{2} - {\\left(b q_{1}^{2} + a\\right)} k_{2} p_{1} + 2 \\, a p_{2}\\right)}}{{\\left({\\left(b q_{1}^{2} + a\\right)} k_{2}^{2} - 4\\right)}^{2} {\\left(b q_{1}^{2} + a\\right)}}\\)</html>"
      ],
      "text/latex": [
       "$\\displaystyle 2 \\, k_{1} q_{1} - \\frac{2 \\, {\\left(2 \\, b p_{2} q_{1}^{2} - {\\left(b q_{1}^{2} + a\\right)} k_{2} p_{1} + 2 \\, a p_{2}\\right)}^{2} b q_{1}}{{\\left({\\left(b q_{1}^{2} + a\\right)} k_{2}^{2} - 4\\right)}^{2} {\\left(b q_{1}^{2} + a\\right)}^{2}} = -\\frac{4 \\, {\\left(2 \\, b p_{2} q_{1}^{2} - {\\left(b q_{1}^{2} + a\\right)} k_{2} p_{1} + 2 \\, a p_{2}\\right)} {\\left({\\left(b p_{2} q_{1}^{2} + a p_{2}\\right)} k_{2} - 2 \\, p_{1}\\right)} b k_{2}^{3} q_{1}}{{\\left({\\left(b q_{1}^{2} + a\\right)} k_{2}^{2} - 4\\right)}^{3}} + \\frac{2 \\, {\\left(2 \\, b p_{2} q_{1}^{2} - {\\left(b q_{1}^{2} + a\\right)} k_{2} p_{1} + 2 \\, a p_{2}\\right)} b k_{2}^{2} p_{2} q_{1}}{{\\left({\\left(b q_{1}^{2} + a\\right)} k_{2}^{2} - 4\\right)}^{2}} + \\frac{4 \\, {\\left({\\left(b p_{2} q_{1}^{2} + a p_{2}\\right)} k_{2} - 2 \\, p_{1}\\right)}^{2} b k_{2}^{2} q_{1}}{{\\left({\\left(b q_{1}^{2} + a\\right)} k_{2}^{2} - 4\\right)}^{3}} - \\frac{4 \\, {\\left({\\left(b p_{2} q_{1}^{2} + a p_{2}\\right)} k_{2} - 2 \\, p_{1}\\right)} b k_{2} p_{2} q_{1}}{{\\left({\\left(b q_{1}^{2} + a\\right)} k_{2}^{2} - 4\\right)}^{2}} + 2 \\, k_{1} q_{1} + \\frac{4 \\, {\\left(2 \\, b p_{2} q_{1}^{2} - {\\left(b q_{1}^{2} + a\\right)} k_{2} p_{1} + 2 \\, a p_{2}\\right)}^{2} b k_{2}^{2} q_{1}}{{\\left({\\left(b q_{1}^{2} + a\\right)} k_{2}^{2} - 4\\right)}^{3} {\\left(b q_{1}^{2} + a\\right)}} - \\frac{2 \\, {\\left(b k_{2} p_{1} q_{1} - 2 \\, b p_{2} q_{1}\\right)} {\\left({\\left(b p_{2} q_{1}^{2} + a p_{2}\\right)} k_{2} - 2 \\, p_{1}\\right)} k_{2}}{{\\left({\\left(b q_{1}^{2} + a\\right)} k_{2}^{2} - 4\\right)}^{2}} + \\frac{2 \\, {\\left(2 \\, b p_{2} q_{1}^{2} - {\\left(b q_{1}^{2} + a\\right)} k_{2} p_{1} + 2 \\, a p_{2}\\right)}^{2} b q_{1}}{{\\left({\\left(b q_{1}^{2} + a\\right)} k_{2}^{2} - 4\\right)}^{2} {\\left(b q_{1}^{2} + a\\right)}^{2}} + \\frac{4 \\, {\\left(b k_{2} p_{1} q_{1} - 2 \\, b p_{2} q_{1}\\right)} {\\left(2 \\, b p_{2} q_{1}^{2} - {\\left(b q_{1}^{2} + a\\right)} k_{2} p_{1} + 2 \\, a p_{2}\\right)}}{{\\left({\\left(b q_{1}^{2} + a\\right)} k_{2}^{2} - 4\\right)}^{2} {\\left(b q_{1}^{2} + a\\right)}}$"
      ],
      "text/plain": [
       "2*k_1*q_1 - 2*(2*b*p_2*q_1^2 - (b*q_1^2 + a)*k_2*p_1 + 2*a*p_2)^2*b*q_1/(((b*q_1^2 + a)*k_2^2 - 4)^2*(b*q_1^2 + a)^2) == -4*(2*b*p_2*q_1^2 - (b*q_1^2 + a)*k_2*p_1 + 2*a*p_2)*((b*p_2*q_1^2 + a*p_2)*k_2 - 2*p_1)*b*k_2^3*q_1/((b*q_1^2 + a)*k_2^2 - 4)^3 + 2*(2*b*p_2*q_1^2 - (b*q_1^2 + a)*k_2*p_1 + 2*a*p_2)*b*k_2^2*p_2*q_1/((b*q_1^2 + a)*k_2^2 - 4)^2 + 4*((b*p_2*q_1^2 + a*p_2)*k_2 - 2*p_1)^2*b*k_2^2*q_1/((b*q_1^2 + a)*k_2^2 - 4)^3 - 4*((b*p_2*q_1^2 + a*p_2)*k_2 - 2*p_1)*b*k_2*p_2*q_1/((b*q_1^2 + a)*k_2^2 - 4)^2 + 2*k_1*q_1 + 4*(2*b*p_2*q_1^2 - (b*q_1^2 + a)*k_2*p_1 + 2*a*p_2)^2*b*k_2^2*q_1/(((b*q_1^2 + a)*k_2^2 - 4)^3*(b*q_1^2 + a)) - 2*(b*k_2*p_1*q_1 - 2*b*p_2*q_1)*((b*p_2*q_1^2 + a*p_2)*k_2 - 2*p_1)*k_2/((b*q_1^2 + a)*k_2^2 - 4)^2 + 2*(2*b*p_2*q_1^2 - (b*q_1^2 + a)*k_2*p_1 + 2*a*p_2)^2*b*q_1/(((b*q_1^2 + a)*k_2^2 - 4)^2*(b*q_1^2 + a)^2) + 4*(b*k_2*p_1*q_1 - 2*b*p_2*q_1)*(2*b*p_2*q_1^2 - (b*q_1^2 + a)*k_2*p_1 + 2*a*p_2)/(((b*q_1^2 + a)*k_2^2 - 4)^2*(b*q_1^2 + a))"
      ]
     },
     "metadata": {},
     "output_type": "display_data"
    }
   ],
   "source": [
    "show(check)"
   ]
  },
  {
   "cell_type": "markdown",
   "id": "0f14e5e9",
   "metadata": {},
   "source": [
    "we will leave it for sage to check whether this equation is true:"
   ]
  },
  {
   "cell_type": "code",
   "execution_count": 54,
   "id": "e4ffe15d",
   "metadata": {
    "vscode": {
     "languageId": "python"
    }
   },
   "outputs": [
    {
     "data": {
      "text/plain": [
       "True"
      ]
     },
     "execution_count": 54,
     "metadata": {},
     "output_type": "execute_result"
    }
   ],
   "source": [
    "bool(check)"
   ]
  },
  {
   "cell_type": "markdown",
   "id": "917ee065",
   "metadata": {},
   "source": [
    "We obtained the same answer from both lagr and hami formalism"
   ]
  }
 ],
 "metadata": {
  "kernelspec": {
   "display_name": "SageMath 9.7",
   "language": "sage",
   "name": "SageMath-9.7"
  },
  "language_info": {
   "codemirror_mode": {
    "name": "ipython",
    "version": 3
   },
   "file_extension": ".py",
   "mimetype": "text/x-python",
   "name": "sage",
   "nbconvert_exporter": "python",
   "pygments_lexer": "ipython3",
   "version": "3.10.5"
  }
 },
 "nbformat": 4,
 "nbformat_minor": 5
}
